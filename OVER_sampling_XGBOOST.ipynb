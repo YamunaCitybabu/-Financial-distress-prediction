{
 "cells": [
  {
   "cell_type": "code",
   "execution_count": 1,
   "id": "7eec186b-0e02-4281-8808-458daa4c67b1",
   "metadata": {},
   "outputs": [],
   "source": [
    "import pandas as pd\n",
    "import numpy as np\n",
    "import matplotlib.pyplot as plt\n",
    "from sklearn.model_selection import train_test_split\n",
    "from sklearn.metrics import confusion_matrix,classification_report\n",
    "%matplotlib inline"
   ]
  },
  {
   "cell_type": "code",
   "execution_count": 2,
   "id": "b3c941aa-cc91-48d6-a79a-92c88e76688e",
   "metadata": {
    "scrolled": true
   },
   "outputs": [
    {
     "data": {
      "text/html": [
       "<div>\n",
       "<style scoped>\n",
       "    .dataframe tbody tr th:only-of-type {\n",
       "        vertical-align: middle;\n",
       "    }\n",
       "\n",
       "    .dataframe tbody tr th {\n",
       "        vertical-align: top;\n",
       "    }\n",
       "\n",
       "    .dataframe thead th {\n",
       "        text-align: right;\n",
       "    }\n",
       "</style>\n",
       "<table border=\"1\" class=\"dataframe\">\n",
       "  <thead>\n",
       "    <tr style=\"text-align: right;\">\n",
       "      <th></th>\n",
       "      <th>monthly_income</th>\n",
       "      <th>debt_ratio</th>\n",
       "      <th>nr_dependents</th>\n",
       "      <th>credit_balances_dividedby_limits</th>\n",
       "      <th>nr_open_credit_lines_and_loans</th>\n",
       "      <th>nr_real_estate_loans</th>\n",
       "      <th>nr_times_30_59_days_past_due</th>\n",
       "      <th>nr_times_60_89_days_past_due</th>\n",
       "      <th>nr_times_90plus_days_past_due</th>\n",
       "      <th>serious_delinquency</th>\n",
       "    </tr>\n",
       "  </thead>\n",
       "  <tbody>\n",
       "    <tr>\n",
       "      <th>0</th>\n",
       "      <td>9120.0</td>\n",
       "      <td>0.802982</td>\n",
       "      <td>2.0</td>\n",
       "      <td>0.766127</td>\n",
       "      <td>13</td>\n",
       "      <td>6</td>\n",
       "      <td>2</td>\n",
       "      <td>0</td>\n",
       "      <td>0</td>\n",
       "      <td>1</td>\n",
       "    </tr>\n",
       "    <tr>\n",
       "      <th>1</th>\n",
       "      <td>2600.0</td>\n",
       "      <td>0.121876</td>\n",
       "      <td>1.0</td>\n",
       "      <td>0.957151</td>\n",
       "      <td>4</td>\n",
       "      <td>0</td>\n",
       "      <td>0</td>\n",
       "      <td>0</td>\n",
       "      <td>0</td>\n",
       "      <td>0</td>\n",
       "    </tr>\n",
       "    <tr>\n",
       "      <th>2</th>\n",
       "      <td>3042.0</td>\n",
       "      <td>0.085113</td>\n",
       "      <td>0.0</td>\n",
       "      <td>0.658180</td>\n",
       "      <td>2</td>\n",
       "      <td>0</td>\n",
       "      <td>1</td>\n",
       "      <td>0</td>\n",
       "      <td>1</td>\n",
       "      <td>0</td>\n",
       "    </tr>\n",
       "    <tr>\n",
       "      <th>3</th>\n",
       "      <td>3300.0</td>\n",
       "      <td>0.036050</td>\n",
       "      <td>0.0</td>\n",
       "      <td>0.233810</td>\n",
       "      <td>5</td>\n",
       "      <td>0</td>\n",
       "      <td>0</td>\n",
       "      <td>0</td>\n",
       "      <td>0</td>\n",
       "      <td>0</td>\n",
       "    </tr>\n",
       "    <tr>\n",
       "      <th>4</th>\n",
       "      <td>63588.0</td>\n",
       "      <td>0.024926</td>\n",
       "      <td>0.0</td>\n",
       "      <td>0.907239</td>\n",
       "      <td>7</td>\n",
       "      <td>1</td>\n",
       "      <td>1</td>\n",
       "      <td>0</td>\n",
       "      <td>0</td>\n",
       "      <td>0</td>\n",
       "    </tr>\n",
       "    <tr>\n",
       "      <th>5</th>\n",
       "      <td>3500.0</td>\n",
       "      <td>0.375607</td>\n",
       "      <td>1.0</td>\n",
       "      <td>0.213179</td>\n",
       "      <td>3</td>\n",
       "      <td>1</td>\n",
       "      <td>0</td>\n",
       "      <td>0</td>\n",
       "      <td>0</td>\n",
       "      <td>0</td>\n",
       "    </tr>\n",
       "    <tr>\n",
       "      <th>6</th>\n",
       "      <td>NaN</td>\n",
       "      <td>5710.000000</td>\n",
       "      <td>0.0</td>\n",
       "      <td>0.305682</td>\n",
       "      <td>8</td>\n",
       "      <td>3</td>\n",
       "      <td>0</td>\n",
       "      <td>0</td>\n",
       "      <td>0</td>\n",
       "      <td>0</td>\n",
       "    </tr>\n",
       "    <tr>\n",
       "      <th>7</th>\n",
       "      <td>3500.0</td>\n",
       "      <td>0.209940</td>\n",
       "      <td>0.0</td>\n",
       "      <td>0.754464</td>\n",
       "      <td>8</td>\n",
       "      <td>0</td>\n",
       "      <td>0</td>\n",
       "      <td>0</td>\n",
       "      <td>0</td>\n",
       "      <td>0</td>\n",
       "    </tr>\n",
       "    <tr>\n",
       "      <th>8</th>\n",
       "      <td>NaN</td>\n",
       "      <td>46.000000</td>\n",
       "      <td>NaN</td>\n",
       "      <td>0.116951</td>\n",
       "      <td>2</td>\n",
       "      <td>0</td>\n",
       "      <td>0</td>\n",
       "      <td>0</td>\n",
       "      <td>0</td>\n",
       "      <td>0</td>\n",
       "    </tr>\n",
       "    <tr>\n",
       "      <th>9</th>\n",
       "      <td>23684.0</td>\n",
       "      <td>0.606291</td>\n",
       "      <td>2.0</td>\n",
       "      <td>0.189169</td>\n",
       "      <td>9</td>\n",
       "      <td>4</td>\n",
       "      <td>0</td>\n",
       "      <td>0</td>\n",
       "      <td>0</td>\n",
       "      <td>0</td>\n",
       "    </tr>\n",
       "  </tbody>\n",
       "</table>\n",
       "</div>"
      ],
      "text/plain": [
       "   monthly_income   debt_ratio  nr_dependents  \\\n",
       "0          9120.0     0.802982            2.0   \n",
       "1          2600.0     0.121876            1.0   \n",
       "2          3042.0     0.085113            0.0   \n",
       "3          3300.0     0.036050            0.0   \n",
       "4         63588.0     0.024926            0.0   \n",
       "5          3500.0     0.375607            1.0   \n",
       "6             NaN  5710.000000            0.0   \n",
       "7          3500.0     0.209940            0.0   \n",
       "8             NaN    46.000000            NaN   \n",
       "9         23684.0     0.606291            2.0   \n",
       "\n",
       "   credit_balances_dividedby_limits  nr_open_credit_lines_and_loans  \\\n",
       "0                          0.766127                              13   \n",
       "1                          0.957151                               4   \n",
       "2                          0.658180                               2   \n",
       "3                          0.233810                               5   \n",
       "4                          0.907239                               7   \n",
       "5                          0.213179                               3   \n",
       "6                          0.305682                               8   \n",
       "7                          0.754464                               8   \n",
       "8                          0.116951                               2   \n",
       "9                          0.189169                               9   \n",
       "\n",
       "   nr_real_estate_loans  nr_times_30_59_days_past_due  \\\n",
       "0                     6                             2   \n",
       "1                     0                             0   \n",
       "2                     0                             1   \n",
       "3                     0                             0   \n",
       "4                     1                             1   \n",
       "5                     1                             0   \n",
       "6                     3                             0   \n",
       "7                     0                             0   \n",
       "8                     0                             0   \n",
       "9                     4                             0   \n",
       "\n",
       "   nr_times_60_89_days_past_due  nr_times_90plus_days_past_due  \\\n",
       "0                             0                              0   \n",
       "1                             0                              0   \n",
       "2                             0                              1   \n",
       "3                             0                              0   \n",
       "4                             0                              0   \n",
       "5                             0                              0   \n",
       "6                             0                              0   \n",
       "7                             0                              0   \n",
       "8                             0                              0   \n",
       "9                             0                              0   \n",
       "\n",
       "   serious_delinquency  \n",
       "0                    1  \n",
       "1                    0  \n",
       "2                    0  \n",
       "3                    0  \n",
       "4                    0  \n",
       "5                    0  \n",
       "6                    0  \n",
       "7                    0  \n",
       "8                    0  \n",
       "9                    0  "
      ]
     },
     "execution_count": 2,
     "metadata": {},
     "output_type": "execute_result"
    }
   ],
   "source": [
    "url='https://drive.google.com/file/d/1GuosYDgfE-SrmfBao53O-iaVUYov0THG/view?usp=sharing'\n",
    "url='https://drive.google.com/uc?id=' + url.split('/')[-2]\n",
    "df = pd.read_csv(url)\n",
    "df.head(10)"
   ]
  },
  {
   "cell_type": "code",
   "execution_count": 3,
   "id": "eed57cdd-5007-4770-bf24-653c72112ff0",
   "metadata": {},
   "outputs": [
    {
     "data": {
      "text/html": [
       "<div>\n",
       "<style scoped>\n",
       "    .dataframe tbody tr th:only-of-type {\n",
       "        vertical-align: middle;\n",
       "    }\n",
       "\n",
       "    .dataframe tbody tr th {\n",
       "        vertical-align: top;\n",
       "    }\n",
       "\n",
       "    .dataframe thead th {\n",
       "        text-align: right;\n",
       "    }\n",
       "</style>\n",
       "<table border=\"1\" class=\"dataframe\">\n",
       "  <thead>\n",
       "    <tr style=\"text-align: right;\">\n",
       "      <th></th>\n",
       "      <th>monthly_income</th>\n",
       "      <th>debt_ratio</th>\n",
       "    </tr>\n",
       "  </thead>\n",
       "  <tbody>\n",
       "    <tr>\n",
       "      <th>6</th>\n",
       "      <td>NaN</td>\n",
       "      <td>5710.0</td>\n",
       "    </tr>\n",
       "    <tr>\n",
       "      <th>8</th>\n",
       "      <td>NaN</td>\n",
       "      <td>46.0</td>\n",
       "    </tr>\n",
       "    <tr>\n",
       "      <th>16</th>\n",
       "      <td>NaN</td>\n",
       "      <td>2058.0</td>\n",
       "    </tr>\n",
       "    <tr>\n",
       "      <th>32</th>\n",
       "      <td>NaN</td>\n",
       "      <td>977.0</td>\n",
       "    </tr>\n",
       "    <tr>\n",
       "      <th>41</th>\n",
       "      <td>NaN</td>\n",
       "      <td>75.0</td>\n",
       "    </tr>\n",
       "    <tr>\n",
       "      <th>...</th>\n",
       "      <td>...</td>\n",
       "      <td>...</td>\n",
       "    </tr>\n",
       "    <tr>\n",
       "      <th>149976</th>\n",
       "      <td>NaN</td>\n",
       "      <td>60.0</td>\n",
       "    </tr>\n",
       "    <tr>\n",
       "      <th>149977</th>\n",
       "      <td>NaN</td>\n",
       "      <td>349.0</td>\n",
       "    </tr>\n",
       "    <tr>\n",
       "      <th>149984</th>\n",
       "      <td>NaN</td>\n",
       "      <td>25.0</td>\n",
       "    </tr>\n",
       "    <tr>\n",
       "      <th>149992</th>\n",
       "      <td>NaN</td>\n",
       "      <td>4132.0</td>\n",
       "    </tr>\n",
       "    <tr>\n",
       "      <th>149997</th>\n",
       "      <td>NaN</td>\n",
       "      <td>3870.0</td>\n",
       "    </tr>\n",
       "  </tbody>\n",
       "</table>\n",
       "<p>29731 rows × 2 columns</p>\n",
       "</div>"
      ],
      "text/plain": [
       "        monthly_income  debt_ratio\n",
       "6                  NaN      5710.0\n",
       "8                  NaN        46.0\n",
       "16                 NaN      2058.0\n",
       "32                 NaN       977.0\n",
       "41                 NaN        75.0\n",
       "...                ...         ...\n",
       "149976             NaN        60.0\n",
       "149977             NaN       349.0\n",
       "149984             NaN        25.0\n",
       "149992             NaN      4132.0\n",
       "149997             NaN      3870.0\n",
       "\n",
       "[29731 rows x 2 columns]"
      ]
     },
     "execution_count": 3,
     "metadata": {},
     "output_type": "execute_result"
    }
   ],
   "source": [
    "df[df[\"monthly_income\"].isin([\"null\",\"nan\",\"Null\",\"Nan\",\"NaN\",np.nan])][[\"monthly_income\",\"debt_ratio\"]]"
   ]
  },
  {
   "cell_type": "code",
   "execution_count": null,
   "id": "c41e22df-7072-47e5-beff-a0a173bce5a8",
   "metadata": {},
   "outputs": [],
   "source": []
  },
  {
   "cell_type": "code",
   "execution_count": 4,
   "id": "601adfe4-23ce-4cd3-8106-6c04f49728ee",
   "metadata": {},
   "outputs": [
    {
     "data": {
      "text/plain": [
       "(150000, 10)"
      ]
     },
     "execution_count": 4,
     "metadata": {},
     "output_type": "execute_result"
    }
   ],
   "source": [
    "df.shape"
   ]
  },
  {
   "cell_type": "code",
   "execution_count": 5,
   "id": "3a100ee7-29c1-495f-83f0-44465898301a",
   "metadata": {},
   "outputs": [
    {
     "name": "stdout",
     "output_type": "stream",
     "text": [
      "<class 'pandas.core.frame.DataFrame'>\n",
      "RangeIndex: 150000 entries, 0 to 149999\n",
      "Data columns (total 10 columns):\n",
      " #   Column                            Non-Null Count   Dtype  \n",
      "---  ------                            --------------   -----  \n",
      " 0   monthly_income                    120269 non-null  float64\n",
      " 1   debt_ratio                        150000 non-null  float64\n",
      " 2   nr_dependents                     146076 non-null  float64\n",
      " 3   credit_balances_dividedby_limits  150000 non-null  float64\n",
      " 4   nr_open_credit_lines_and_loans    150000 non-null  int64  \n",
      " 5   nr_real_estate_loans              150000 non-null  int64  \n",
      " 6   nr_times_30_59_days_past_due      150000 non-null  int64  \n",
      " 7   nr_times_60_89_days_past_due      150000 non-null  int64  \n",
      " 8   nr_times_90plus_days_past_due     150000 non-null  int64  \n",
      " 9   serious_delinquency               150000 non-null  int64  \n",
      "dtypes: float64(4), int64(6)\n",
      "memory usage: 11.4 MB\n"
     ]
    }
   ],
   "source": [
    "df.info()"
   ]
  },
  {
   "cell_type": "code",
   "execution_count": 6,
   "id": "5adcebea-92f1-4cb1-9c43-408f0a8621ec",
   "metadata": {},
   "outputs": [
    {
     "data": {
      "text/plain": [
       "serious_delinquency\n",
       "0    139974\n",
       "1     10026\n",
       "Name: count, dtype: int64"
      ]
     },
     "execution_count": 6,
     "metadata": {},
     "output_type": "execute_result"
    }
   ],
   "source": [
    "df[\"serious_delinquency\"].value_counts()"
   ]
  },
  {
   "cell_type": "code",
   "execution_count": 7,
   "id": "eeab3ea3-cbd9-4f97-b720-eb42af58a488",
   "metadata": {},
   "outputs": [
    {
     "data": {
      "text/plain": [
       "33655"
      ]
     },
     "execution_count": 7,
     "metadata": {},
     "output_type": "execute_result"
    }
   ],
   "source": [
    "df.isnull().sum().sum()"
   ]
  },
  {
   "cell_type": "code",
   "execution_count": 8,
   "id": "f897f500-d484-4bf2-98c2-8bca436ed379",
   "metadata": {},
   "outputs": [
    {
     "data": {
      "text/html": [
       "<div>\n",
       "<style scoped>\n",
       "    .dataframe tbody tr th:only-of-type {\n",
       "        vertical-align: middle;\n",
       "    }\n",
       "\n",
       "    .dataframe tbody tr th {\n",
       "        vertical-align: top;\n",
       "    }\n",
       "\n",
       "    .dataframe thead th {\n",
       "        text-align: right;\n",
       "    }\n",
       "</style>\n",
       "<table border=\"1\" class=\"dataframe\">\n",
       "  <thead>\n",
       "    <tr style=\"text-align: right;\">\n",
       "      <th></th>\n",
       "      <th>monthly_income</th>\n",
       "      <th>debt_ratio</th>\n",
       "      <th>nr_dependents</th>\n",
       "      <th>credit_balances_dividedby_limits</th>\n",
       "      <th>nr_open_credit_lines_and_loans</th>\n",
       "      <th>nr_real_estate_loans</th>\n",
       "      <th>nr_times_30_59_days_past_due</th>\n",
       "      <th>nr_times_60_89_days_past_due</th>\n",
       "      <th>nr_times_90plus_days_past_due</th>\n",
       "      <th>serious_delinquency</th>\n",
       "    </tr>\n",
       "  </thead>\n",
       "  <tbody>\n",
       "    <tr>\n",
       "      <th>0</th>\n",
       "      <td>9120.000000</td>\n",
       "      <td>0.802982</td>\n",
       "      <td>2</td>\n",
       "      <td>0.766127</td>\n",
       "      <td>13</td>\n",
       "      <td>6</td>\n",
       "      <td>2</td>\n",
       "      <td>0</td>\n",
       "      <td>0</td>\n",
       "      <td>1</td>\n",
       "    </tr>\n",
       "    <tr>\n",
       "      <th>1</th>\n",
       "      <td>2600.000000</td>\n",
       "      <td>0.121876</td>\n",
       "      <td>1</td>\n",
       "      <td>0.957151</td>\n",
       "      <td>4</td>\n",
       "      <td>0</td>\n",
       "      <td>0</td>\n",
       "      <td>0</td>\n",
       "      <td>0</td>\n",
       "      <td>0</td>\n",
       "    </tr>\n",
       "    <tr>\n",
       "      <th>2</th>\n",
       "      <td>3042.000000</td>\n",
       "      <td>0.085113</td>\n",
       "      <td>0</td>\n",
       "      <td>0.658180</td>\n",
       "      <td>2</td>\n",
       "      <td>0</td>\n",
       "      <td>1</td>\n",
       "      <td>0</td>\n",
       "      <td>1</td>\n",
       "      <td>0</td>\n",
       "    </tr>\n",
       "    <tr>\n",
       "      <th>3</th>\n",
       "      <td>3300.000000</td>\n",
       "      <td>0.036050</td>\n",
       "      <td>0</td>\n",
       "      <td>0.233810</td>\n",
       "      <td>5</td>\n",
       "      <td>0</td>\n",
       "      <td>0</td>\n",
       "      <td>0</td>\n",
       "      <td>0</td>\n",
       "      <td>0</td>\n",
       "    </tr>\n",
       "    <tr>\n",
       "      <th>4</th>\n",
       "      <td>63588.000000</td>\n",
       "      <td>0.024926</td>\n",
       "      <td>0</td>\n",
       "      <td>0.907239</td>\n",
       "      <td>7</td>\n",
       "      <td>1</td>\n",
       "      <td>1</td>\n",
       "      <td>0</td>\n",
       "      <td>0</td>\n",
       "      <td>0</td>\n",
       "    </tr>\n",
       "    <tr>\n",
       "      <th>5</th>\n",
       "      <td>3500.000000</td>\n",
       "      <td>0.375607</td>\n",
       "      <td>1</td>\n",
       "      <td>0.213179</td>\n",
       "      <td>3</td>\n",
       "      <td>1</td>\n",
       "      <td>0</td>\n",
       "      <td>0</td>\n",
       "      <td>0</td>\n",
       "      <td>0</td>\n",
       "    </tr>\n",
       "    <tr>\n",
       "      <th>6</th>\n",
       "      <td>6670.221237</td>\n",
       "      <td>5710.000000</td>\n",
       "      <td>0</td>\n",
       "      <td>0.305682</td>\n",
       "      <td>8</td>\n",
       "      <td>3</td>\n",
       "      <td>0</td>\n",
       "      <td>0</td>\n",
       "      <td>0</td>\n",
       "      <td>0</td>\n",
       "    </tr>\n",
       "    <tr>\n",
       "      <th>7</th>\n",
       "      <td>3500.000000</td>\n",
       "      <td>0.209940</td>\n",
       "      <td>0</td>\n",
       "      <td>0.754464</td>\n",
       "      <td>8</td>\n",
       "      <td>0</td>\n",
       "      <td>0</td>\n",
       "      <td>0</td>\n",
       "      <td>0</td>\n",
       "      <td>0</td>\n",
       "    </tr>\n",
       "    <tr>\n",
       "      <th>8</th>\n",
       "      <td>6670.221237</td>\n",
       "      <td>46.000000</td>\n",
       "      <td>0</td>\n",
       "      <td>0.116951</td>\n",
       "      <td>2</td>\n",
       "      <td>0</td>\n",
       "      <td>0</td>\n",
       "      <td>0</td>\n",
       "      <td>0</td>\n",
       "      <td>0</td>\n",
       "    </tr>\n",
       "    <tr>\n",
       "      <th>9</th>\n",
       "      <td>23684.000000</td>\n",
       "      <td>0.606291</td>\n",
       "      <td>2</td>\n",
       "      <td>0.189169</td>\n",
       "      <td>9</td>\n",
       "      <td>4</td>\n",
       "      <td>0</td>\n",
       "      <td>0</td>\n",
       "      <td>0</td>\n",
       "      <td>0</td>\n",
       "    </tr>\n",
       "  </tbody>\n",
       "</table>\n",
       "</div>"
      ],
      "text/plain": [
       "   monthly_income   debt_ratio  nr_dependents  \\\n",
       "0     9120.000000     0.802982              2   \n",
       "1     2600.000000     0.121876              1   \n",
       "2     3042.000000     0.085113              0   \n",
       "3     3300.000000     0.036050              0   \n",
       "4    63588.000000     0.024926              0   \n",
       "5     3500.000000     0.375607              1   \n",
       "6     6670.221237  5710.000000              0   \n",
       "7     3500.000000     0.209940              0   \n",
       "8     6670.221237    46.000000              0   \n",
       "9    23684.000000     0.606291              2   \n",
       "\n",
       "   credit_balances_dividedby_limits  nr_open_credit_lines_and_loans  \\\n",
       "0                          0.766127                              13   \n",
       "1                          0.957151                               4   \n",
       "2                          0.658180                               2   \n",
       "3                          0.233810                               5   \n",
       "4                          0.907239                               7   \n",
       "5                          0.213179                               3   \n",
       "6                          0.305682                               8   \n",
       "7                          0.754464                               8   \n",
       "8                          0.116951                               2   \n",
       "9                          0.189169                               9   \n",
       "\n",
       "   nr_real_estate_loans  nr_times_30_59_days_past_due  \\\n",
       "0                     6                             2   \n",
       "1                     0                             0   \n",
       "2                     0                             1   \n",
       "3                     0                             0   \n",
       "4                     1                             1   \n",
       "5                     1                             0   \n",
       "6                     3                             0   \n",
       "7                     0                             0   \n",
       "8                     0                             0   \n",
       "9                     4                             0   \n",
       "\n",
       "   nr_times_60_89_days_past_due  nr_times_90plus_days_past_due  \\\n",
       "0                             0                              0   \n",
       "1                             0                              0   \n",
       "2                             0                              1   \n",
       "3                             0                              0   \n",
       "4                             0                              0   \n",
       "5                             0                              0   \n",
       "6                             0                              0   \n",
       "7                             0                              0   \n",
       "8                             0                              0   \n",
       "9                             0                              0   \n",
       "\n",
       "   serious_delinquency  \n",
       "0                    1  \n",
       "1                    0  \n",
       "2                    0  \n",
       "3                    0  \n",
       "4                    0  \n",
       "5                    0  \n",
       "6                    0  \n",
       "7                    0  \n",
       "8                    0  \n",
       "9                    0  "
      ]
     },
     "execution_count": 8,
     "metadata": {},
     "output_type": "execute_result"
    }
   ],
   "source": [
    "#df.dropna(subset=[\"monthly_income\"],axis=0,inplace=True)\n",
    "#f.head(15)\n",
    "# df=df.fillna(value=df[\"monthly_income\"].mean())\n",
    "# df=df.fillna(value=df[\"nr_dependents\"].mean())\n",
    "df[\"monthly_income\"]=df[\"monthly_income\"].fillna(value=df[\"monthly_income\"].mean())\n",
    "df[\"nr_dependents\"]=df[\"nr_dependents\"].fillna(value=df[\"nr_dependents\"].mean())\n",
    "df[\"nr_dependents\"]=df[\"nr_dependents\"].astype(\"int\")\n",
    "df.head(10)"
   ]
  },
  {
   "cell_type": "code",
   "execution_count": 9,
   "id": "b0426e02-33b4-4073-9470-bdab18a1956c",
   "metadata": {},
   "outputs": [
    {
     "data": {
      "text/plain": [
       "serious_delinquency\n",
       "0    139974\n",
       "1     10026\n",
       "Name: count, dtype: int64"
      ]
     },
     "execution_count": 9,
     "metadata": {},
     "output_type": "execute_result"
    }
   ],
   "source": [
    "df[\"serious_delinquency\"].value_counts()"
   ]
  },
  {
   "cell_type": "code",
   "execution_count": 10,
   "id": "70229082-888d-4493-b060-794cc154024a",
   "metadata": {},
   "outputs": [
    {
     "data": {
      "text/html": [
       "<div>\n",
       "<style scoped>\n",
       "    .dataframe tbody tr th:only-of-type {\n",
       "        vertical-align: middle;\n",
       "    }\n",
       "\n",
       "    .dataframe tbody tr th {\n",
       "        vertical-align: top;\n",
       "    }\n",
       "\n",
       "    .dataframe thead th {\n",
       "        text-align: right;\n",
       "    }\n",
       "</style>\n",
       "<table border=\"1\" class=\"dataframe\">\n",
       "  <thead>\n",
       "    <tr style=\"text-align: right;\">\n",
       "      <th></th>\n",
       "      <th>monthly_income</th>\n",
       "      <th>debt_ratio</th>\n",
       "      <th>nr_dependents</th>\n",
       "      <th>credit_balances_dividedby_limits</th>\n",
       "      <th>nr_open_credit_lines_and_loans</th>\n",
       "      <th>nr_real_estate_loans</th>\n",
       "      <th>nr_times_30_59_days_past_due</th>\n",
       "      <th>nr_times_60_89_days_past_due</th>\n",
       "      <th>nr_times_90plus_days_past_due</th>\n",
       "      <th>serious_delinquency</th>\n",
       "    </tr>\n",
       "  </thead>\n",
       "  <tbody>\n",
       "    <tr>\n",
       "      <th>0</th>\n",
       "      <td>9120.0</td>\n",
       "      <td>0.802982</td>\n",
       "      <td>2</td>\n",
       "      <td>0.766127</td>\n",
       "      <td>13</td>\n",
       "      <td>6</td>\n",
       "      <td>2</td>\n",
       "      <td>0</td>\n",
       "      <td>0</td>\n",
       "      <td>1</td>\n",
       "    </tr>\n",
       "    <tr>\n",
       "      <th>1</th>\n",
       "      <td>2600.0</td>\n",
       "      <td>0.121876</td>\n",
       "      <td>1</td>\n",
       "      <td>0.957151</td>\n",
       "      <td>4</td>\n",
       "      <td>0</td>\n",
       "      <td>0</td>\n",
       "      <td>0</td>\n",
       "      <td>0</td>\n",
       "      <td>0</td>\n",
       "    </tr>\n",
       "    <tr>\n",
       "      <th>2</th>\n",
       "      <td>3042.0</td>\n",
       "      <td>0.085113</td>\n",
       "      <td>0</td>\n",
       "      <td>0.658180</td>\n",
       "      <td>2</td>\n",
       "      <td>0</td>\n",
       "      <td>1</td>\n",
       "      <td>0</td>\n",
       "      <td>1</td>\n",
       "      <td>0</td>\n",
       "    </tr>\n",
       "    <tr>\n",
       "      <th>3</th>\n",
       "      <td>3300.0</td>\n",
       "      <td>0.036050</td>\n",
       "      <td>0</td>\n",
       "      <td>0.233810</td>\n",
       "      <td>5</td>\n",
       "      <td>0</td>\n",
       "      <td>0</td>\n",
       "      <td>0</td>\n",
       "      <td>0</td>\n",
       "      <td>0</td>\n",
       "    </tr>\n",
       "    <tr>\n",
       "      <th>4</th>\n",
       "      <td>63588.0</td>\n",
       "      <td>0.024926</td>\n",
       "      <td>0</td>\n",
       "      <td>0.907239</td>\n",
       "      <td>7</td>\n",
       "      <td>1</td>\n",
       "      <td>1</td>\n",
       "      <td>0</td>\n",
       "      <td>0</td>\n",
       "      <td>0</td>\n",
       "    </tr>\n",
       "  </tbody>\n",
       "</table>\n",
       "</div>"
      ],
      "text/plain": [
       "   monthly_income  debt_ratio  nr_dependents  \\\n",
       "0          9120.0    0.802982              2   \n",
       "1          2600.0    0.121876              1   \n",
       "2          3042.0    0.085113              0   \n",
       "3          3300.0    0.036050              0   \n",
       "4         63588.0    0.024926              0   \n",
       "\n",
       "   credit_balances_dividedby_limits  nr_open_credit_lines_and_loans  \\\n",
       "0                          0.766127                              13   \n",
       "1                          0.957151                               4   \n",
       "2                          0.658180                               2   \n",
       "3                          0.233810                               5   \n",
       "4                          0.907239                               7   \n",
       "\n",
       "   nr_real_estate_loans  nr_times_30_59_days_past_due  \\\n",
       "0                     6                             2   \n",
       "1                     0                             0   \n",
       "2                     0                             1   \n",
       "3                     0                             0   \n",
       "4                     1                             1   \n",
       "\n",
       "   nr_times_60_89_days_past_due  nr_times_90plus_days_past_due  \\\n",
       "0                             0                              0   \n",
       "1                             0                              0   \n",
       "2                             0                              1   \n",
       "3                             0                              0   \n",
       "4                             0                              0   \n",
       "\n",
       "   serious_delinquency  \n",
       "0                    1  \n",
       "1                    0  \n",
       "2                    0  \n",
       "3                    0  \n",
       "4                    0  "
      ]
     },
     "execution_count": 10,
     "metadata": {},
     "output_type": "execute_result"
    }
   ],
   "source": [
    "df[\"nr_dependents\"]=df[\"nr_dependents\"].astype(\"int64\")\n",
    "df.head()"
   ]
  },
  {
   "cell_type": "code",
   "execution_count": 11,
   "id": "45396610-e471-4ea2-97fa-156507e86e13",
   "metadata": {},
   "outputs": [
    {
     "data": {
      "text/plain": [
       "0"
      ]
     },
     "execution_count": 11,
     "metadata": {},
     "output_type": "execute_result"
    }
   ],
   "source": [
    "df.isnull().sum().sum()"
   ]
  },
  {
   "cell_type": "code",
   "execution_count": 12,
   "id": "787819eb-6921-488e-b2fc-d1ba0cf58f8b",
   "metadata": {},
   "outputs": [
    {
     "data": {
      "text/html": [
       "<div>\n",
       "<style scoped>\n",
       "    .dataframe tbody tr th:only-of-type {\n",
       "        vertical-align: middle;\n",
       "    }\n",
       "\n",
       "    .dataframe tbody tr th {\n",
       "        vertical-align: top;\n",
       "    }\n",
       "\n",
       "    .dataframe thead th {\n",
       "        text-align: right;\n",
       "    }\n",
       "</style>\n",
       "<table border=\"1\" class=\"dataframe\">\n",
       "  <thead>\n",
       "    <tr style=\"text-align: right;\">\n",
       "      <th></th>\n",
       "      <th>debt_ratio</th>\n",
       "      <th>credit_balances_dividedby_limits</th>\n",
       "    </tr>\n",
       "  </thead>\n",
       "  <tbody>\n",
       "    <tr>\n",
       "      <th>debt_ratio</th>\n",
       "      <td>1.000000</td>\n",
       "      <td>0.003961</td>\n",
       "    </tr>\n",
       "    <tr>\n",
       "      <th>credit_balances_dividedby_limits</th>\n",
       "      <td>0.003961</td>\n",
       "      <td>1.000000</td>\n",
       "    </tr>\n",
       "  </tbody>\n",
       "</table>\n",
       "</div>"
      ],
      "text/plain": [
       "                                  debt_ratio  credit_balances_dividedby_limits\n",
       "debt_ratio                          1.000000                          0.003961\n",
       "credit_balances_dividedby_limits    0.003961                          1.000000"
      ]
     },
     "execution_count": 12,
     "metadata": {},
     "output_type": "execute_result"
    }
   ],
   "source": [
    "df[[\"debt_ratio\",\"credit_balances_dividedby_limits\"]].corr()"
   ]
  },
  {
   "cell_type": "code",
   "execution_count": 13,
   "id": "88f81108-9a11-4dbf-8a1d-f1003810b084",
   "metadata": {},
   "outputs": [
    {
     "name": "stdout",
     "output_type": "stream",
     "text": [
      "Requirement already satisfied: seaborn in c:\\users\\cyamu\\anaconda3\\lib\\site-packages (0.12.2)\n",
      "Requirement already satisfied: numpy!=1.24.0,>=1.17 in c:\\users\\cyamu\\anaconda3\\lib\\site-packages (from seaborn) (1.26.4)\n",
      "Requirement already satisfied: pandas>=0.25 in c:\\users\\cyamu\\anaconda3\\lib\\site-packages (from seaborn) (2.1.4)\n",
      "Requirement already satisfied: matplotlib!=3.6.1,>=3.1 in c:\\users\\cyamu\\anaconda3\\lib\\site-packages (from seaborn) (3.7.2)\n",
      "Requirement already satisfied: contourpy>=1.0.1 in c:\\users\\cyamu\\anaconda3\\lib\\site-packages (from matplotlib!=3.6.1,>=3.1->seaborn) (1.2.0)\n",
      "Requirement already satisfied: cycler>=0.10 in c:\\users\\cyamu\\anaconda3\\lib\\site-packages (from matplotlib!=3.6.1,>=3.1->seaborn) (0.11.0)\n",
      "Requirement already satisfied: fonttools>=4.22.0 in c:\\users\\cyamu\\anaconda3\\lib\\site-packages (from matplotlib!=3.6.1,>=3.1->seaborn) (4.25.0)\n",
      "Requirement already satisfied: kiwisolver>=1.0.1 in c:\\users\\cyamu\\anaconda3\\lib\\site-packages (from matplotlib!=3.6.1,>=3.1->seaborn) (1.4.4)\n",
      "Requirement already satisfied: packaging>=20.0 in c:\\users\\cyamu\\anaconda3\\lib\\site-packages (from matplotlib!=3.6.1,>=3.1->seaborn) (23.1)\n",
      "Requirement already satisfied: pillow>=6.2.0 in c:\\users\\cyamu\\anaconda3\\lib\\site-packages (from matplotlib!=3.6.1,>=3.1->seaborn) (10.2.0)\n",
      "Requirement already satisfied: pyparsing<3.1,>=2.3.1 in c:\\users\\cyamu\\anaconda3\\lib\\site-packages (from matplotlib!=3.6.1,>=3.1->seaborn) (3.0.9)\n",
      "Requirement already satisfied: python-dateutil>=2.7 in c:\\users\\cyamu\\anaconda3\\lib\\site-packages (from matplotlib!=3.6.1,>=3.1->seaborn) (2.8.2)\n",
      "Requirement already satisfied: pytz>=2020.1 in c:\\users\\cyamu\\anaconda3\\lib\\site-packages (from pandas>=0.25->seaborn) (2023.3.post1)\n",
      "Requirement already satisfied: tzdata>=2022.1 in c:\\users\\cyamu\\anaconda3\\lib\\site-packages (from pandas>=0.25->seaborn) (2023.3)\n",
      "Requirement already satisfied: six>=1.5 in c:\\users\\cyamu\\anaconda3\\lib\\site-packages (from python-dateutil>=2.7->matplotlib!=3.6.1,>=3.1->seaborn) (1.16.0)\n"
     ]
    }
   ],
   "source": [
    "!pip install seaborn\n"
   ]
  },
  {
   "cell_type": "code",
   "execution_count": 14,
   "id": "252f2a73-76c6-4a5f-8c58-3414b3031884",
   "metadata": {},
   "outputs": [],
   "source": [
    "import seaborn as sns"
   ]
  },
  {
   "cell_type": "code",
   "execution_count": 15,
   "id": "ff674fab-8f66-4542-a0e6-977feb59fa2d",
   "metadata": {},
   "outputs": [
    {
     "data": {
      "text/plain": [
       "(0.0, 56.7)"
      ]
     },
     "execution_count": 15,
     "metadata": {},
     "output_type": "execute_result"
    },
    {
     "data": {
      "image/png": "[encoded data removed]",
      "text/plain": [
       "<Figure size 640x480 with 1 Axes>"
      ]
     },
     "metadata": {},
     "output_type": "display_data"
    }
   ],
   "source": [
    "sns.regplot(x=\"nr_open_credit_lines_and_loans\",y=\"nr_real_estate_loans\",data=df)\n",
    "plt.ylim(0,)"
   ]
  },
  {
   "cell_type": "code",
   "execution_count": 16,
   "id": "93b8a4e6-831d-45ac-9d03-3da09839efcc",
   "metadata": {},
   "outputs": [
    {
     "data": {
      "text/plain": [
       "(0.0, 39.332090012556684)"
      ]
     },
     "execution_count": 16,
     "metadata": {},
     "output_type": "execute_result"
    },
    {
     "data": {
      "image/png": "[encoded data removed]",
      "text/plain": [
       "<Figure size 640x480 with 1 Axes>"
      ]
     },
     "metadata": {},
     "output_type": "display_data"
    }
   ],
   "source": [
    "sns.regplot(x=\"monthly_income\",y=\"nr_dependents\",data=df)\n",
    "plt.ylim(0,)"
   ]
  },
  {
   "cell_type": "code",
   "execution_count": 17,
   "id": "66889236-8666-4a58-8757-54e98f4ece35",
   "metadata": {},
   "outputs": [
    {
     "data": {
      "text/html": [
       "<div>\n",
       "<style scoped>\n",
       "    .dataframe tbody tr th:only-of-type {\n",
       "        vertical-align: middle;\n",
       "    }\n",
       "\n",
       "    .dataframe tbody tr th {\n",
       "        vertical-align: top;\n",
       "    }\n",
       "\n",
       "    .dataframe thead th {\n",
       "        text-align: right;\n",
       "    }\n",
       "</style>\n",
       "<table border=\"1\" class=\"dataframe\">\n",
       "  <thead>\n",
       "    <tr style=\"text-align: right;\">\n",
       "      <th></th>\n",
       "      <th>nr_real_estate_loans</th>\n",
       "      <th>nr_open_credit_lines_and_loans</th>\n",
       "    </tr>\n",
       "  </thead>\n",
       "  <tbody>\n",
       "    <tr>\n",
       "      <th>nr_real_estate_loans</th>\n",
       "      <td>1.000000</td>\n",
       "      <td>0.433959</td>\n",
       "    </tr>\n",
       "    <tr>\n",
       "      <th>nr_open_credit_lines_and_loans</th>\n",
       "      <td>0.433959</td>\n",
       "      <td>1.000000</td>\n",
       "    </tr>\n",
       "  </tbody>\n",
       "</table>\n",
       "</div>"
      ],
      "text/plain": [
       "                                nr_real_estate_loans  \\\n",
       "nr_real_estate_loans                        1.000000   \n",
       "nr_open_credit_lines_and_loans              0.433959   \n",
       "\n",
       "                                nr_open_credit_lines_and_loans  \n",
       "nr_real_estate_loans                                  0.433959  \n",
       "nr_open_credit_lines_and_loans                        1.000000  "
      ]
     },
     "execution_count": 17,
     "metadata": {},
     "output_type": "execute_result"
    }
   ],
   "source": [
    "df[[\"nr_real_estate_loans\",\"nr_open_credit_lines_and_loans\"]].corr()"
   ]
  },
  {
   "cell_type": "code",
   "execution_count": 18,
   "id": "d7e3d803-7e44-4a97-aaf5-e4c33e4b7fc3",
   "metadata": {},
   "outputs": [
    {
     "data": {
      "text/html": [
       "<div>\n",
       "<style scoped>\n",
       "    .dataframe tbody tr th:only-of-type {\n",
       "        vertical-align: middle;\n",
       "    }\n",
       "\n",
       "    .dataframe tbody tr th {\n",
       "        vertical-align: top;\n",
       "    }\n",
       "\n",
       "    .dataframe thead th {\n",
       "        text-align: right;\n",
       "    }\n",
       "</style>\n",
       "<table border=\"1\" class=\"dataframe\">\n",
       "  <thead>\n",
       "    <tr style=\"text-align: right;\">\n",
       "      <th></th>\n",
       "      <th>monthly_income</th>\n",
       "      <th>credit_balances_dividedby_limits</th>\n",
       "      <th>nr_open_credit_lines_and_loans</th>\n",
       "      <th>nr_times_30_59_days_past_due</th>\n",
       "      <th>nr_times_60_89_days_past_due</th>\n",
       "      <th>nr_times_90plus_days_past_due</th>\n",
       "    </tr>\n",
       "  </thead>\n",
       "  <tbody>\n",
       "    <tr>\n",
       "      <th>0</th>\n",
       "      <td>9120.0</td>\n",
       "      <td>0.766127</td>\n",
       "      <td>13</td>\n",
       "      <td>2</td>\n",
       "      <td>0</td>\n",
       "      <td>0</td>\n",
       "    </tr>\n",
       "    <tr>\n",
       "      <th>1</th>\n",
       "      <td>2600.0</td>\n",
       "      <td>0.957151</td>\n",
       "      <td>4</td>\n",
       "      <td>0</td>\n",
       "      <td>0</td>\n",
       "      <td>0</td>\n",
       "    </tr>\n",
       "    <tr>\n",
       "      <th>2</th>\n",
       "      <td>3042.0</td>\n",
       "      <td>0.658180</td>\n",
       "      <td>2</td>\n",
       "      <td>1</td>\n",
       "      <td>0</td>\n",
       "      <td>1</td>\n",
       "    </tr>\n",
       "    <tr>\n",
       "      <th>3</th>\n",
       "      <td>3300.0</td>\n",
       "      <td>0.233810</td>\n",
       "      <td>5</td>\n",
       "      <td>0</td>\n",
       "      <td>0</td>\n",
       "      <td>0</td>\n",
       "    </tr>\n",
       "    <tr>\n",
       "      <th>4</th>\n",
       "      <td>63588.0</td>\n",
       "      <td>0.907239</td>\n",
       "      <td>7</td>\n",
       "      <td>1</td>\n",
       "      <td>0</td>\n",
       "      <td>0</td>\n",
       "    </tr>\n",
       "    <tr>\n",
       "      <th>...</th>\n",
       "      <td>...</td>\n",
       "      <td>...</td>\n",
       "      <td>...</td>\n",
       "      <td>...</td>\n",
       "      <td>...</td>\n",
       "      <td>...</td>\n",
       "    </tr>\n",
       "    <tr>\n",
       "      <th>145</th>\n",
       "      <td>5821.0</td>\n",
       "      <td>1.000000</td>\n",
       "      <td>7</td>\n",
       "      <td>0</td>\n",
       "      <td>0</td>\n",
       "      <td>0</td>\n",
       "    </tr>\n",
       "    <tr>\n",
       "      <th>146</th>\n",
       "      <td>12500.0</td>\n",
       "      <td>0.496912</td>\n",
       "      <td>11</td>\n",
       "      <td>0</td>\n",
       "      <td>0</td>\n",
       "      <td>0</td>\n",
       "    </tr>\n",
       "    <tr>\n",
       "      <th>147</th>\n",
       "      <td>3937.0</td>\n",
       "      <td>0.130902</td>\n",
       "      <td>17</td>\n",
       "      <td>1</td>\n",
       "      <td>0</td>\n",
       "      <td>0</td>\n",
       "    </tr>\n",
       "    <tr>\n",
       "      <th>148</th>\n",
       "      <td>3500.0</td>\n",
       "      <td>0.546999</td>\n",
       "      <td>9</td>\n",
       "      <td>0</td>\n",
       "      <td>0</td>\n",
       "      <td>0</td>\n",
       "    </tr>\n",
       "    <tr>\n",
       "      <th>149</th>\n",
       "      <td>2083.0</td>\n",
       "      <td>0.072277</td>\n",
       "      <td>2</td>\n",
       "      <td>0</td>\n",
       "      <td>0</td>\n",
       "      <td>0</td>\n",
       "    </tr>\n",
       "  </tbody>\n",
       "</table>\n",
       "<p>150 rows × 6 columns</p>\n",
       "</div>"
      ],
      "text/plain": [
       "     monthly_income  credit_balances_dividedby_limits  \\\n",
       "0            9120.0                          0.766127   \n",
       "1            2600.0                          0.957151   \n",
       "2            3042.0                          0.658180   \n",
       "3            3300.0                          0.233810   \n",
       "4           63588.0                          0.907239   \n",
       "..              ...                               ...   \n",
       "145          5821.0                          1.000000   \n",
       "146         12500.0                          0.496912   \n",
       "147          3937.0                          0.130902   \n",
       "148          3500.0                          0.546999   \n",
       "149          2083.0                          0.072277   \n",
       "\n",
       "     nr_open_credit_lines_and_loans  nr_times_30_59_days_past_due  \\\n",
       "0                                13                             2   \n",
       "1                                 4                             0   \n",
       "2                                 2                             1   \n",
       "3                                 5                             0   \n",
       "4                                 7                             1   \n",
       "..                              ...                           ...   \n",
       "145                               7                             0   \n",
       "146                              11                             0   \n",
       "147                              17                             1   \n",
       "148                               9                             0   \n",
       "149                               2                             0   \n",
       "\n",
       "     nr_times_60_89_days_past_due  nr_times_90plus_days_past_due  \n",
       "0                               0                              0  \n",
       "1                               0                              0  \n",
       "2                               0                              1  \n",
       "3                               0                              0  \n",
       "4                               0                              0  \n",
       "..                            ...                            ...  \n",
       "145                             0                              0  \n",
       "146                             0                              0  \n",
       "147                             0                              0  \n",
       "148                             0                              0  \n",
       "149                             0                              0  \n",
       "\n",
       "[150 rows x 6 columns]"
      ]
     },
     "execution_count": 18,
     "metadata": {},
     "output_type": "execute_result"
    }
   ],
   "source": [
    "x=df[[\"monthly_income\",\"credit_balances_dividedby_limits\",\"nr_open_credit_lines_and_loans\",\"nr_times_30_59_days_past_due\",\"nr_times_60_89_days_past_due\",\"nr_times_90plus_days_past_due\"]]\n",
    "x.head(150)"
   ]
  },
  {
   "cell_type": "code",
   "execution_count": 19,
   "id": "cec7f31c-d403-4c0f-a11b-781feef58990",
   "metadata": {},
   "outputs": [
    {
     "data": {
      "text/html": [
       "<div>\n",
       "<style scoped>\n",
       "    .dataframe tbody tr th:only-of-type {\n",
       "        vertical-align: middle;\n",
       "    }\n",
       "\n",
       "    .dataframe tbody tr th {\n",
       "        vertical-align: top;\n",
       "    }\n",
       "\n",
       "    .dataframe thead th {\n",
       "        text-align: right;\n",
       "    }\n",
       "</style>\n",
       "<table border=\"1\" class=\"dataframe\">\n",
       "  <thead>\n",
       "    <tr style=\"text-align: right;\">\n",
       "      <th></th>\n",
       "      <th>serious_delinquency</th>\n",
       "    </tr>\n",
       "  </thead>\n",
       "  <tbody>\n",
       "    <tr>\n",
       "      <th>0</th>\n",
       "      <td>1</td>\n",
       "    </tr>\n",
       "    <tr>\n",
       "      <th>1</th>\n",
       "      <td>0</td>\n",
       "    </tr>\n",
       "    <tr>\n",
       "      <th>2</th>\n",
       "      <td>0</td>\n",
       "    </tr>\n",
       "    <tr>\n",
       "      <th>3</th>\n",
       "      <td>0</td>\n",
       "    </tr>\n",
       "    <tr>\n",
       "      <th>4</th>\n",
       "      <td>0</td>\n",
       "    </tr>\n",
       "  </tbody>\n",
       "</table>\n",
       "</div>"
      ],
      "text/plain": [
       "   serious_delinquency\n",
       "0                    1\n",
       "1                    0\n",
       "2                    0\n",
       "3                    0\n",
       "4                    0"
      ]
     },
     "execution_count": 19,
     "metadata": {},
     "output_type": "execute_result"
    }
   ],
   "source": [
    "y=df[[\"serious_delinquency\"]]\n",
    "y.head()"
   ]
  },
  {
   "cell_type": "code",
   "execution_count": 50,
   "id": "4c289251-ae5d-4fe3-abd9-456312fa79bd",
   "metadata": {},
   "outputs": [
    {
     "name": "stdout",
     "output_type": "stream",
     "text": [
      "  serious_delinquency percentage\n",
      "0               0.00%     93.32%\n",
      "1             100.00%      6.68%\n"
     ]
    },
    {
     "data": {
      "image/png": "[encoded data removed]",
      "text/plain": [
       "<Figure size 640x480 with 1 Axes>"
      ]
     },
     "metadata": {},
     "output_type": "display_data"
    }
   ],
   "source": [
    "y.plot(kind='hist', title= 'serious_delinquency before sampling')\n",
    "percentage = (y.value_counts(normalize=True).reset_index(name='percentage') )\n",
    "print (percentage.map(\"{:.2%}\".format))"
   ]
  },
  {
   "cell_type": "code",
   "execution_count": 51,
   "id": "f7972cab-0d49-492a-9072-986aac47ced4",
   "metadata": {},
   "outputs": [
    {
     "data": {
      "text/plain": [
       "serious_delinquency\n",
       "0                      139974\n",
       "1                       10026\n",
       "Name: count, dtype: int64"
      ]
     },
     "execution_count": 51,
     "metadata": {},
     "output_type": "execute_result"
    }
   ],
   "source": [
    "y.value_counts()"
   ]
  },
  {
   "cell_type": "markdown",
   "id": "4e81ef5f-2b3c-41c6-9796-ee5561cbccde",
   "metadata": {},
   "source": [
    "OVER SAMPLING "
   ]
  },
  {
   "cell_type": "code",
   "execution_count": 20,
   "id": "34eb47ce-a9d9-4f92-b81b-1d260a8ca7e7",
   "metadata": {},
   "outputs": [],
   "source": [
    "from imblearn.over_sampling import RandomOverSampler\n",
    "# Apply oversampling using RandomOverSampler\n",
    "oversampler = RandomOverSampler(sampling_strategy='auto', random_state=42)"
   ]
  },
  {
   "cell_type": "code",
   "execution_count": 53,
   "id": "14940da3-c05f-4366-a0b9-125389d0a948",
   "metadata": {},
   "outputs": [
    {
     "data": {
      "text/plain": [
       "monthly_income  credit_balances_dividedby_limits  nr_open_credit_lines_and_loans  nr_times_30_59_days_past_due  nr_times_60_89_days_past_due  nr_times_90plus_days_past_due\n",
       "6.670221e+03    1.000000                          0                               0                             0                             0                                994\n",
       "                                                                                  98                            98                            98                               913\n",
       "                                                  1                               0                             0                             0                                907\n",
       "                                                  2                               0                             0                             0                                579\n",
       "                                                  0                               0                             0                             1                                451\n",
       "                                                                                                                                                                              ... \n",
       "4.900000e+03    1.000000                          11                              0                             1                             0                                  1\n",
       "                                                  10                              0                             0                             0                                  1\n",
       "                                                  4                               1                             1                             1                                  1\n",
       "                                                                                  0                             1                             3                                  1\n",
       "3.008750e+06    0.007328                          10                              0                             0                             0                                  1\n",
       "Name: count, Length: 140327, dtype: int64"
      ]
     },
     "execution_count": 53,
     "metadata": {},
     "output_type": "execute_result"
    }
   ],
   "source": [
    "x_resampled,y_resampled = oversampler.fit_resample(x,y)"
   ]
  },
  {
   "cell_type": "code",
   "execution_count": 42,
   "id": "3422f487-bb68-4609-b123-c920e00ea6c3",
   "metadata": {},
   "outputs": [
    {
     "data": {
      "image/png": "[encoded data removed]",
      "text/plain": [
       "<Figure size 500x300 with 1 Axes>"
      ]
     },
     "metadata": {},
     "output_type": "display_data"
    }
   ],
   "source": [
    "# Print the histogram of the resampled classes\n",
    "plt.figure(figsize=(5,3))\n",
    "plt.hist(y_resampled, bins=range(3), align='left', rwidth=0.6, color='orange', alpha=0.7)\n",
    "plt.title(\"Histogram of Resampled Classes (Oversampling)\")\n",
    "plt.xlabel(\"Class\")\n",
    "plt.ylabel(\"Number of Instances\")\n",
    "plt.xticks(range(2), ['Class 0', 'Class 1'])\n",
    "plt.show()"
   ]
  },
  {
   "cell_type": "markdown",
   "id": "af98866c-2820-4be2-81fb-9effc6d0e521",
   "metadata": {},
   "source": [
    "TRAIN AND TEST THE DATASET"
   ]
  },
  {
   "cell_type": "code",
   "execution_count": 23,
   "id": "32c938a8-c5c3-4699-99ee-86399f1357ea",
   "metadata": {},
   "outputs": [
    {
     "name": "stdout",
     "output_type": "stream",
     "text": [
      "Train set (223958, 6) (223958, 1)\n",
      "Test set (55990, 6) (55990, 1)\n"
     ]
    }
   ],
   "source": [
    "x_train,x_test,y_train,y_test=train_test_split(x_resampled,y_resampled,test_size=0.2,random_state=4)\n",
    "print(\"Train set\",x_train.shape,y_train.shape)\n",
    "print(\"Test set\",x_test.shape,y_test.shape)"
   ]
  },
  {
   "cell_type": "markdown",
   "id": "78c04021-0fae-4007-9ceb-4fe7d4ec7a10",
   "metadata": {},
   "source": [
    "MODEL"
   ]
  },
  {
   "cell_type": "code",
   "execution_count": 24,
   "id": "113b08ee-0ad0-4694-972f-80ab967c4710",
   "metadata": {},
   "outputs": [
    {
     "data": {
      "text/plain": [
       "0.9981620599204154"
      ]
     },
     "execution_count": 24,
     "metadata": {},
     "output_type": "execute_result"
    }
   ],
   "source": [
    "# Calculate the ratio of negative class to positive class\n",
    "ratio = float(y_train.value_counts()[0]) / y_train.value_counts()[1]\n",
    "ratio"
   ]
  },
  {
   "cell_type": "code",
   "execution_count": 25,
   "id": "bd07ce01-49fe-4e0b-bc47-956187e51a5e",
   "metadata": {},
   "outputs": [
    {
     "data": {
      "text/html": [
       "<style>#sk-container-id-1 {color: black;background-color: white;}#sk-container-id-1 pre{padding: 0;}#sk-container-id-1 div.sk-toggleable {background-color: white;}#sk-container-id-1 label.sk-toggleable__label {cursor: pointer;display: block;width: 100%;margin-bottom: 0;padding: 0.3em;box-sizing: border-box;text-align: center;}#sk-container-id-1 label.sk-toggleable__label-arrow:before {content: \"▸\";float: left;margin-right: 0.25em;color: #696969;}#sk-container-id-1 label.sk-toggleable__label-arrow:hover:before {color: black;}#sk-container-id-1 div.sk-estimator:hover label.sk-toggleable__label-arrow:before {color: black;}#sk-container-id-1 div.sk-toggleable__content {max-height: 0;max-width: 0;overflow: hidden;text-align: left;background-color: #f0f8ff;}#sk-container-id-1 div.sk-toggleable__content pre {margin: 0.2em;color: black;border-radius: 0.25em;background-color: #f0f8ff;}#sk-container-id-1 input.sk-toggleable__control:checked~div.sk-toggleable__content {max-height: 200px;max-width: 100%;overflow: auto;}#sk-container-id-1 input.sk-toggleable__control:checked~label.sk-toggleable__label-arrow:before {content: \"▾\";}#sk-container-id-1 div.sk-estimator input.sk-toggleable__control:checked~label.sk-toggleable__label {background-color: #d4ebff;}#sk-container-id-1 div.sk-label input.sk-toggleable__control:checked~label.sk-toggleable__label {background-color: #d4ebff;}#sk-container-id-1 input.sk-hidden--visually {border: 0;clip: rect(1px 1px 1px 1px);clip: rect(1px, 1px, 1px, 1px);height: 1px;margin: -1px;overflow: hidden;padding: 0;position: absolute;width: 1px;}#sk-container-id-1 div.sk-estimator {font-family: monospace;background-color: #f0f8ff;border: 1px dotted black;border-radius: 0.25em;box-sizing: border-box;margin-bottom: 0.5em;}#sk-container-id-1 div.sk-estimator:hover {background-color: #d4ebff;}#sk-container-id-1 div.sk-parallel-item::after {content: \"\";width: 100%;border-bottom: 1px solid gray;flex-grow: 1;}#sk-container-id-1 div.sk-label:hover label.sk-toggleable__label {background-color: #d4ebff;}#sk-container-id-1 div.sk-serial::before {content: \"\";position: absolute;border-left: 1px solid gray;box-sizing: border-box;top: 0;bottom: 0;left: 50%;z-index: 0;}#sk-container-id-1 div.sk-serial {display: flex;flex-direction: column;align-items: center;background-color: white;padding-right: 0.2em;padding-left: 0.2em;position: relative;}#sk-container-id-1 div.sk-item {position: relative;z-index: 1;}#sk-container-id-1 div.sk-parallel {display: flex;align-items: stretch;justify-content: center;background-color: white;position: relative;}#sk-container-id-1 div.sk-item::before, #sk-container-id-1 div.sk-parallel-item::before {content: \"\";position: absolute;border-left: 1px solid gray;box-sizing: border-box;top: 0;bottom: 0;left: 50%;z-index: -1;}#sk-container-id-1 div.sk-parallel-item {display: flex;flex-direction: column;z-index: 1;position: relative;background-color: white;}#sk-container-id-1 div.sk-parallel-item:first-child::after {align-self: flex-end;width: 50%;}#sk-container-id-1 div.sk-parallel-item:last-child::after {align-self: flex-start;width: 50%;}#sk-container-id-1 div.sk-parallel-item:only-child::after {width: 0;}#sk-container-id-1 div.sk-dashed-wrapped {border: 1px dashed gray;margin: 0 0.4em 0.5em 0.4em;box-sizing: border-box;padding-bottom: 0.4em;background-color: white;}#sk-container-id-1 div.sk-label label {font-family: monospace;font-weight: bold;display: inline-block;line-height: 1.2em;}#sk-container-id-1 div.sk-label-container {text-align: center;}#sk-container-id-1 div.sk-container {/* jupyter's `normalize.less` sets `[hidden] { display: none; }` but bootstrap.min.css set `[hidden] { display: none !important; }` so we also need the `!important` here to be able to override the default hidden behavior on the sphinx rendered scikit-learn.org. See: https://github.com/scikit-learn/scikit-learn/issues/21755 */display: inline-block !important;position: relative;}#sk-container-id-1 div.sk-text-repr-fallback {display: none;}</style><div id=\"sk-container-id-1\" class=\"sk-top-container\"><div class=\"sk-text-repr-fallback\"><pre>XGBClassifier(base_score=None, booster=None, callbacks=None,\n",
       "              colsample_bylevel=None, colsample_bynode=None,\n",
       "              colsample_bytree=None, device=None, early_stopping_rounds=None,\n",
       "              enable_categorical=False, eval_metric=None, feature_types=None,\n",
       "              gamma=None, grow_policy=None, importance_type=None,\n",
       "              interaction_constraints=None, learning_rate=None, max_bin=None,\n",
       "              max_cat_threshold=None, max_cat_to_onehot=None,\n",
       "              max_delta_step=None, max_depth=None, max_leaves=None,\n",
       "              min_child_weight=None, missing=nan, monotone_constraints=None,\n",
       "              multi_strategy=None, n_estimators=250, n_jobs=None,\n",
       "              num_parallel_tree=None, random_state=None, ...)</pre><b>In a Jupyter environment, please rerun this cell to show the HTML representation or trust the notebook. <br />On GitHub, the HTML representation is unable to render, please try loading this page with nbviewer.org.</b></div><div class=\"sk-container\" hidden><div class=\"sk-item\"><div class=\"sk-estimator sk-toggleable\"><input class=\"sk-toggleable__control sk-hidden--visually\" id=\"sk-estimator-id-1\" type=\"checkbox\" checked><label for=\"sk-estimator-id-1\" class=\"sk-toggleable__label sk-toggleable__label-arrow\">XGBClassifier</label><div class=\"sk-toggleable__content\"><pre>XGBClassifier(base_score=None, booster=None, callbacks=None,\n",
       "              colsample_bylevel=None, colsample_bynode=None,\n",
       "              colsample_bytree=None, device=None, early_stopping_rounds=None,\n",
       "              enable_categorical=False, eval_metric=None, feature_types=None,\n",
       "              gamma=None, grow_policy=None, importance_type=None,\n",
       "              interaction_constraints=None, learning_rate=None, max_bin=None,\n",
       "              max_cat_threshold=None, max_cat_to_onehot=None,\n",
       "              max_delta_step=None, max_depth=None, max_leaves=None,\n",
       "              min_child_weight=None, missing=nan, monotone_constraints=None,\n",
       "              multi_strategy=None, n_estimators=250, n_jobs=None,\n",
       "              num_parallel_tree=None, random_state=None, ...)</pre></div></div></div></div></div>"
      ],
      "text/plain": [
       "XGBClassifier(base_score=None, booster=None, callbacks=None,\n",
       "              colsample_bylevel=None, colsample_bynode=None,\n",
       "              colsample_bytree=None, device=None, early_stopping_rounds=None,\n",
       "              enable_categorical=False, eval_metric=None, feature_types=None,\n",
       "              gamma=None, grow_policy=None, importance_type=None,\n",
       "              interaction_constraints=None, learning_rate=None, max_bin=None,\n",
       "              max_cat_threshold=None, max_cat_to_onehot=None,\n",
       "              max_delta_step=None, max_depth=None, max_leaves=None,\n",
       "              min_child_weight=None, missing=nan, monotone_constraints=None,\n",
       "              multi_strategy=None, n_estimators=250, n_jobs=None,\n",
       "              num_parallel_tree=None, random_state=None, ...)"
      ]
     },
     "execution_count": 25,
     "metadata": {},
     "output_type": "execute_result"
    }
   ],
   "source": [
    "import xgboost as xgb\n",
    "# Create an XGBoost classifier with the scale_pos_weight and value\n",
    "model = xgb.XGBClassifier(n_estimators=250,scale_pos_weight=ratio)\n",
    "# Fit the model to the training data\n",
    "model.fit(x_train, y_train)"
   ]
  },
  {
   "cell_type": "code",
   "execution_count": 26,
   "id": "e95667fb-f0da-48b6-a837-dff95755880d",
   "metadata": {},
   "outputs": [
    {
     "data": {
      "text/plain": [
       "array([0.87153745, 0.30570903, 0.15805012, ..., 0.96777946, 0.06692997,\n",
       "       0.34789678], dtype=float32)"
      ]
     },
     "execution_count": 26,
     "metadata": {},
     "output_type": "execute_result"
    }
   ],
   "source": [
    "# Make predictions on the test set\n",
    "y_pred = model.predict(x_test)\n",
    "y_pred_proba = model.predict_proba(x_test)[:, 1]\n",
    "y_pred_proba"
   ]
  },
  {
   "cell_type": "code",
   "execution_count": 27,
   "id": "e27c351a-a483-46ac-8681-fbe49b1810f9",
   "metadata": {},
   "outputs": [
    {
     "data": {
      "text/plain": [
       "array([0.5267418 , 0.7255836 , 0.96776396, ..., 0.06937367, 0.13564184,\n",
       "       0.11885112], dtype=float32)"
      ]
     },
     "execution_count": 27,
     "metadata": {},
     "output_type": "execute_result"
    }
   ],
   "source": [
    "# Make predictions on the train set\n",
    "y_pred_train = model.predict(x_train)\n",
    "y_pred_proba_train = model.predict_proba(x_train)[:, 1]\n",
    "y_pred_proba_train"
   ]
  },
  {
   "cell_type": "markdown",
   "id": "9c7fa106-3653-49eb-8dd6-f38fea5eab11",
   "metadata": {},
   "source": [
    "EVALUATION"
   ]
  },
  {
   "cell_type": "code",
   "execution_count": 28,
   "id": "29064cea-f546-4803-a04e-e3a32d6dadad",
   "metadata": {},
   "outputs": [
    {
     "name": "stdout",
     "output_type": "stream",
     "text": [
      "              precision    recall  f1-score   support\n",
      "\n",
      "           0       0.85      0.84      0.84     28098\n",
      "           1       0.84      0.85      0.84     27892\n",
      "\n",
      "    accuracy                           0.84     55990\n",
      "   macro avg       0.84      0.84      0.84     55990\n",
      "weighted avg       0.84      0.84      0.84     55990\n",
      "\n"
     ]
    }
   ],
   "source": [
    "#classification report for test set\n",
    "from sklearn.metrics import classification_report\n",
    "print(classification_report(y_test, y_pred))"
   ]
  },
  {
   "cell_type": "markdown",
   "id": "5845eac1-60ce-4441-aa9f-346c1785de62",
   "metadata": {},
   "source": [
    "CONFUSION MATRIX"
   ]
  },
  {
   "cell_type": "code",
   "execution_count": 54,
   "id": "b617c3b5-57fd-4321-b629-9e4ba0c89907",
   "metadata": {},
   "outputs": [
    {
     "data": {
      "image/png": "[encoded data removed]",
      "text/plain": [
       "<Figure size 640x480 with 2 Axes>"
      ]
     },
     "metadata": {},
     "output_type": "display_data"
    }
   ],
   "source": [
    "from sklearn import metrics\n",
    "confusion_matrix = metrics.confusion_matrix(y_test,y_pred)\n",
    "cm_display = metrics.ConfusionMatrixDisplay(confusion_matrix = confusion_matrix, display_labels = [False, True])\n",
    "cm_display.plot()\n",
    "plt.title(\"Confusion Matrix of XGBClassifier with OVERSAMPLING\")\n",
    "plt.show()"
   ]
  },
  {
   "cell_type": "code",
   "execution_count": null,
   "id": "bacd8399-db6e-449e-a96d-ec76b2860477",
   "metadata": {},
   "outputs": [],
   "source": []
  }
 ],
 "metadata": {
  "kernelspec": {
   "display_name": "Python 3 (ipykernel)",
   "language": "python",
   "name": "python3"
  },
  "language_info": {
   "codemirror_mode": {
    "name": "ipython",
    "version": 3
   },
   "file_extension": ".py",
   "mimetype": "text/x-python",
   "name": "python",
   "nbconvert_exporter": "python",
   "pygments_lexer": "ipython3",
   "version": "3.11.7"
  }
 },
 "nbformat": 4,
 "nbformat_minor": 5
}
