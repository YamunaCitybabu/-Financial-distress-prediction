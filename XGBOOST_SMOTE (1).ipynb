{
 "cells": [
  {
   "cell_type": "markdown",
   "id": "7e7140f4-acf2-4bf3-ae6f-0b3e06782c23",
   "metadata": {},
   "source": [
    "IMPORT LIBRARIES"
   ]
  },
  {
   "cell_type": "code",
   "execution_count": 1,
   "id": "bc2c72c4-8001-41aa-b5db-b28ca3378a24",
   "metadata": {},
   "outputs": [],
   "source": [
    "import pandas as pd\n",
    "import numpy as np\n",
    "import matplotlib.pyplot as plt\n",
    "from sklearn.preprocessing import StandardScaler\n",
    "from sklearn.model_selection import train_test_split\n",
    "from sklearn.metrics import confusion_matrix,classification_report\n",
    "%matplotlib inline"
   ]
  },
  {
   "cell_type": "markdown",
   "id": "597379d4-38b5-4f31-a63c-85714336c443",
   "metadata": {},
   "source": [
    "READ DATA"
   ]
  },
  {
   "cell_type": "code",
   "execution_count": 2,
   "id": "5e013841-1686-4b7a-8db5-52e938d8b5b6",
   "metadata": {},
   "outputs": [
    {
     "data": {
      "text/html": [
       "<div>\n",
       "<style scoped>\n",
       "    .dataframe tbody tr th:only-of-type {\n",
       "        vertical-align: middle;\n",
       "    }\n",
       "\n",
       "    .dataframe tbody tr th {\n",
       "        vertical-align: top;\n",
       "    }\n",
       "\n",
       "    .dataframe thead th {\n",
       "        text-align: right;\n",
       "    }\n",
       "</style>\n",
       "<table border=\"1\" class=\"dataframe\">\n",
       "  <thead>\n",
       "    <tr style=\"text-align: right;\">\n",
       "      <th></th>\n",
       "      <th>monthly_income</th>\n",
       "      <th>debt_ratio</th>\n",
       "      <th>nr_dependents</th>\n",
       "      <th>credit_balances_dividedby_limits</th>\n",
       "      <th>nr_open_credit_lines_and_loans</th>\n",
       "      <th>nr_real_estate_loans</th>\n",
       "      <th>nr_times_30_59_days_past_due</th>\n",
       "      <th>nr_times_60_89_days_past_due</th>\n",
       "      <th>nr_times_90plus_days_past_due</th>\n",
       "      <th>serious_delinquency</th>\n",
       "    </tr>\n",
       "  </thead>\n",
       "  <tbody>\n",
       "    <tr>\n",
       "      <th>0</th>\n",
       "      <td>9120.0</td>\n",
       "      <td>0.802982</td>\n",
       "      <td>2.0</td>\n",
       "      <td>0.766127</td>\n",
       "      <td>13</td>\n",
       "      <td>6</td>\n",
       "      <td>2</td>\n",
       "      <td>0</td>\n",
       "      <td>0</td>\n",
       "      <td>1</td>\n",
       "    </tr>\n",
       "    <tr>\n",
       "      <th>1</th>\n",
       "      <td>2600.0</td>\n",
       "      <td>0.121876</td>\n",
       "      <td>1.0</td>\n",
       "      <td>0.957151</td>\n",
       "      <td>4</td>\n",
       "      <td>0</td>\n",
       "      <td>0</td>\n",
       "      <td>0</td>\n",
       "      <td>0</td>\n",
       "      <td>0</td>\n",
       "    </tr>\n",
       "    <tr>\n",
       "      <th>2</th>\n",
       "      <td>3042.0</td>\n",
       "      <td>0.085113</td>\n",
       "      <td>0.0</td>\n",
       "      <td>0.658180</td>\n",
       "      <td>2</td>\n",
       "      <td>0</td>\n",
       "      <td>1</td>\n",
       "      <td>0</td>\n",
       "      <td>1</td>\n",
       "      <td>0</td>\n",
       "    </tr>\n",
       "    <tr>\n",
       "      <th>3</th>\n",
       "      <td>3300.0</td>\n",
       "      <td>0.036050</td>\n",
       "      <td>0.0</td>\n",
       "      <td>0.233810</td>\n",
       "      <td>5</td>\n",
       "      <td>0</td>\n",
       "      <td>0</td>\n",
       "      <td>0</td>\n",
       "      <td>0</td>\n",
       "      <td>0</td>\n",
       "    </tr>\n",
       "    <tr>\n",
       "      <th>4</th>\n",
       "      <td>63588.0</td>\n",
       "      <td>0.024926</td>\n",
       "      <td>0.0</td>\n",
       "      <td>0.907239</td>\n",
       "      <td>7</td>\n",
       "      <td>1</td>\n",
       "      <td>1</td>\n",
       "      <td>0</td>\n",
       "      <td>0</td>\n",
       "      <td>0</td>\n",
       "    </tr>\n",
       "    <tr>\n",
       "      <th>5</th>\n",
       "      <td>3500.0</td>\n",
       "      <td>0.375607</td>\n",
       "      <td>1.0</td>\n",
       "      <td>0.213179</td>\n",
       "      <td>3</td>\n",
       "      <td>1</td>\n",
       "      <td>0</td>\n",
       "      <td>0</td>\n",
       "      <td>0</td>\n",
       "      <td>0</td>\n",
       "    </tr>\n",
       "    <tr>\n",
       "      <th>6</th>\n",
       "      <td>NaN</td>\n",
       "      <td>5710.000000</td>\n",
       "      <td>0.0</td>\n",
       "      <td>0.305682</td>\n",
       "      <td>8</td>\n",
       "      <td>3</td>\n",
       "      <td>0</td>\n",
       "      <td>0</td>\n",
       "      <td>0</td>\n",
       "      <td>0</td>\n",
       "    </tr>\n",
       "    <tr>\n",
       "      <th>7</th>\n",
       "      <td>3500.0</td>\n",
       "      <td>0.209940</td>\n",
       "      <td>0.0</td>\n",
       "      <td>0.754464</td>\n",
       "      <td>8</td>\n",
       "      <td>0</td>\n",
       "      <td>0</td>\n",
       "      <td>0</td>\n",
       "      <td>0</td>\n",
       "      <td>0</td>\n",
       "    </tr>\n",
       "    <tr>\n",
       "      <th>8</th>\n",
       "      <td>NaN</td>\n",
       "      <td>46.000000</td>\n",
       "      <td>NaN</td>\n",
       "      <td>0.116951</td>\n",
       "      <td>2</td>\n",
       "      <td>0</td>\n",
       "      <td>0</td>\n",
       "      <td>0</td>\n",
       "      <td>0</td>\n",
       "      <td>0</td>\n",
       "    </tr>\n",
       "    <tr>\n",
       "      <th>9</th>\n",
       "      <td>23684.0</td>\n",
       "      <td>0.606291</td>\n",
       "      <td>2.0</td>\n",
       "      <td>0.189169</td>\n",
       "      <td>9</td>\n",
       "      <td>4</td>\n",
       "      <td>0</td>\n",
       "      <td>0</td>\n",
       "      <td>0</td>\n",
       "      <td>0</td>\n",
       "    </tr>\n",
       "  </tbody>\n",
       "</table>\n",
       "</div>"
      ],
      "text/plain": [
       "   monthly_income   debt_ratio  nr_dependents  \\\n",
       "0          9120.0     0.802982            2.0   \n",
       "1          2600.0     0.121876            1.0   \n",
       "2          3042.0     0.085113            0.0   \n",
       "3          3300.0     0.036050            0.0   \n",
       "4         63588.0     0.024926            0.0   \n",
       "5          3500.0     0.375607            1.0   \n",
       "6             NaN  5710.000000            0.0   \n",
       "7          3500.0     0.209940            0.0   \n",
       "8             NaN    46.000000            NaN   \n",
       "9         23684.0     0.606291            2.0   \n",
       "\n",
       "   credit_balances_dividedby_limits  nr_open_credit_lines_and_loans  \\\n",
       "0                          0.766127                              13   \n",
       "1                          0.957151                               4   \n",
       "2                          0.658180                               2   \n",
       "3                          0.233810                               5   \n",
       "4                          0.907239                               7   \n",
       "5                          0.213179                               3   \n",
       "6                          0.305682                               8   \n",
       "7                          0.754464                               8   \n",
       "8                          0.116951                               2   \n",
       "9                          0.189169                               9   \n",
       "\n",
       "   nr_real_estate_loans  nr_times_30_59_days_past_due  \\\n",
       "0                     6                             2   \n",
       "1                     0                             0   \n",
       "2                     0                             1   \n",
       "3                     0                             0   \n",
       "4                     1                             1   \n",
       "5                     1                             0   \n",
       "6                     3                             0   \n",
       "7                     0                             0   \n",
       "8                     0                             0   \n",
       "9                     4                             0   \n",
       "\n",
       "   nr_times_60_89_days_past_due  nr_times_90plus_days_past_due  \\\n",
       "0                             0                              0   \n",
       "1                             0                              0   \n",
       "2                             0                              1   \n",
       "3                             0                              0   \n",
       "4                             0                              0   \n",
       "5                             0                              0   \n",
       "6                             0                              0   \n",
       "7                             0                              0   \n",
       "8                             0                              0   \n",
       "9                             0                              0   \n",
       "\n",
       "   serious_delinquency  \n",
       "0                    1  \n",
       "1                    0  \n",
       "2                    0  \n",
       "3                    0  \n",
       "4                    0  \n",
       "5                    0  \n",
       "6                    0  \n",
       "7                    0  \n",
       "8                    0  \n",
       "9                    0  "
      ]
     },
     "execution_count": 2,
     "metadata": {},
     "output_type": "execute_result"
    }
   ],
   "source": [
    "url='https://drive.google.com/file/d/1GuosYDgfE-SrmfBao53O-iaVUYov0THG/view?usp=sharing'\n",
    "url='https://drive.google.com/uc?id=' + url.split('/')[-2]\n",
    "df = pd.read_csv(url)\n",
    "df.head(10)"
   ]
  },
  {
   "cell_type": "code",
   "execution_count": 3,
   "id": "cc656153-8010-4bd7-8676-ed315df1c695",
   "metadata": {},
   "outputs": [
    {
     "data": {
      "text/plain": [
       "(150000, 10)"
      ]
     },
     "execution_count": 3,
     "metadata": {},
     "output_type": "execute_result"
    }
   ],
   "source": [
    "df.shape"
   ]
  },
  {
   "cell_type": "code",
   "execution_count": 4,
   "id": "c42d0eb2-ded1-487f-8a14-32e499e0aaa0",
   "metadata": {},
   "outputs": [
    {
     "name": "stdout",
     "output_type": "stream",
     "text": [
      "<class 'pandas.core.frame.DataFrame'>\n",
      "RangeIndex: 150000 entries, 0 to 149999\n",
      "Data columns (total 10 columns):\n",
      " #   Column                            Non-Null Count   Dtype  \n",
      "---  ------                            --------------   -----  \n",
      " 0   monthly_income                    120269 non-null  float64\n",
      " 1   debt_ratio                        150000 non-null  float64\n",
      " 2   nr_dependents                     146076 non-null  float64\n",
      " 3   credit_balances_dividedby_limits  150000 non-null  float64\n",
      " 4   nr_open_credit_lines_and_loans    150000 non-null  int64  \n",
      " 5   nr_real_estate_loans              150000 non-null  int64  \n",
      " 6   nr_times_30_59_days_past_due      150000 non-null  int64  \n",
      " 7   nr_times_60_89_days_past_due      150000 non-null  int64  \n",
      " 8   nr_times_90plus_days_past_due     150000 non-null  int64  \n",
      " 9   serious_delinquency               150000 non-null  int64  \n",
      "dtypes: float64(4), int64(6)\n",
      "memory usage: 11.4 MB\n"
     ]
    }
   ],
   "source": [
    "df.info()"
   ]
  },
  {
   "cell_type": "code",
   "execution_count": 5,
   "id": "bb338154-f76b-407c-a801-41e4bf6a967b",
   "metadata": {},
   "outputs": [
    {
     "data": {
      "text/plain": [
       "serious_delinquency\n",
       "0    139974\n",
       "1     10026\n",
       "Name: count, dtype: int64"
      ]
     },
     "execution_count": 5,
     "metadata": {},
     "output_type": "execute_result"
    }
   ],
   "source": [
    "df[\"serious_delinquency\"].value_counts()"
   ]
  },
  {
   "cell_type": "code",
   "execution_count": 6,
   "id": "abffe2ab-e9e5-413a-bba0-083267c153a2",
   "metadata": {},
   "outputs": [
    {
     "data": {
      "text/plain": [
       "33655"
      ]
     },
     "execution_count": 6,
     "metadata": {},
     "output_type": "execute_result"
    }
   ],
   "source": [
    "df.isnull().sum().sum()"
   ]
  },
  {
   "cell_type": "markdown",
   "id": "e30104bc-2356-4658-9c70-f918ee256189",
   "metadata": {},
   "source": [
    "HANDLING NULL VALUES"
   ]
  },
  {
   "cell_type": "code",
   "execution_count": 7,
   "id": "78b809dd-bf1d-4c27-a019-17994fb6f89b",
   "metadata": {},
   "outputs": [
    {
     "data": {
      "text/html": [
       "<div>\n",
       "<style scoped>\n",
       "    .dataframe tbody tr th:only-of-type {\n",
       "        vertical-align: middle;\n",
       "    }\n",
       "\n",
       "    .dataframe tbody tr th {\n",
       "        vertical-align: top;\n",
       "    }\n",
       "\n",
       "    .dataframe thead th {\n",
       "        text-align: right;\n",
       "    }\n",
       "</style>\n",
       "<table border=\"1\" class=\"dataframe\">\n",
       "  <thead>\n",
       "    <tr style=\"text-align: right;\">\n",
       "      <th></th>\n",
       "      <th>monthly_income</th>\n",
       "      <th>debt_ratio</th>\n",
       "      <th>nr_dependents</th>\n",
       "      <th>credit_balances_dividedby_limits</th>\n",
       "      <th>nr_open_credit_lines_and_loans</th>\n",
       "      <th>nr_real_estate_loans</th>\n",
       "      <th>nr_times_30_59_days_past_due</th>\n",
       "      <th>nr_times_60_89_days_past_due</th>\n",
       "      <th>nr_times_90plus_days_past_due</th>\n",
       "      <th>serious_delinquency</th>\n",
       "    </tr>\n",
       "  </thead>\n",
       "  <tbody>\n",
       "    <tr>\n",
       "      <th>0</th>\n",
       "      <td>9120.000000</td>\n",
       "      <td>0.802982</td>\n",
       "      <td>2</td>\n",
       "      <td>0.766127</td>\n",
       "      <td>13</td>\n",
       "      <td>6</td>\n",
       "      <td>2</td>\n",
       "      <td>0</td>\n",
       "      <td>0</td>\n",
       "      <td>1</td>\n",
       "    </tr>\n",
       "    <tr>\n",
       "      <th>1</th>\n",
       "      <td>2600.000000</td>\n",
       "      <td>0.121876</td>\n",
       "      <td>1</td>\n",
       "      <td>0.957151</td>\n",
       "      <td>4</td>\n",
       "      <td>0</td>\n",
       "      <td>0</td>\n",
       "      <td>0</td>\n",
       "      <td>0</td>\n",
       "      <td>0</td>\n",
       "    </tr>\n",
       "    <tr>\n",
       "      <th>2</th>\n",
       "      <td>3042.000000</td>\n",
       "      <td>0.085113</td>\n",
       "      <td>0</td>\n",
       "      <td>0.658180</td>\n",
       "      <td>2</td>\n",
       "      <td>0</td>\n",
       "      <td>1</td>\n",
       "      <td>0</td>\n",
       "      <td>1</td>\n",
       "      <td>0</td>\n",
       "    </tr>\n",
       "    <tr>\n",
       "      <th>3</th>\n",
       "      <td>3300.000000</td>\n",
       "      <td>0.036050</td>\n",
       "      <td>0</td>\n",
       "      <td>0.233810</td>\n",
       "      <td>5</td>\n",
       "      <td>0</td>\n",
       "      <td>0</td>\n",
       "      <td>0</td>\n",
       "      <td>0</td>\n",
       "      <td>0</td>\n",
       "    </tr>\n",
       "    <tr>\n",
       "      <th>4</th>\n",
       "      <td>63588.000000</td>\n",
       "      <td>0.024926</td>\n",
       "      <td>0</td>\n",
       "      <td>0.907239</td>\n",
       "      <td>7</td>\n",
       "      <td>1</td>\n",
       "      <td>1</td>\n",
       "      <td>0</td>\n",
       "      <td>0</td>\n",
       "      <td>0</td>\n",
       "    </tr>\n",
       "    <tr>\n",
       "      <th>5</th>\n",
       "      <td>3500.000000</td>\n",
       "      <td>0.375607</td>\n",
       "      <td>1</td>\n",
       "      <td>0.213179</td>\n",
       "      <td>3</td>\n",
       "      <td>1</td>\n",
       "      <td>0</td>\n",
       "      <td>0</td>\n",
       "      <td>0</td>\n",
       "      <td>0</td>\n",
       "    </tr>\n",
       "    <tr>\n",
       "      <th>6</th>\n",
       "      <td>6670.221237</td>\n",
       "      <td>5710.000000</td>\n",
       "      <td>0</td>\n",
       "      <td>0.305682</td>\n",
       "      <td>8</td>\n",
       "      <td>3</td>\n",
       "      <td>0</td>\n",
       "      <td>0</td>\n",
       "      <td>0</td>\n",
       "      <td>0</td>\n",
       "    </tr>\n",
       "    <tr>\n",
       "      <th>7</th>\n",
       "      <td>3500.000000</td>\n",
       "      <td>0.209940</td>\n",
       "      <td>0</td>\n",
       "      <td>0.754464</td>\n",
       "      <td>8</td>\n",
       "      <td>0</td>\n",
       "      <td>0</td>\n",
       "      <td>0</td>\n",
       "      <td>0</td>\n",
       "      <td>0</td>\n",
       "    </tr>\n",
       "    <tr>\n",
       "      <th>8</th>\n",
       "      <td>6670.221237</td>\n",
       "      <td>46.000000</td>\n",
       "      <td>0</td>\n",
       "      <td>0.116951</td>\n",
       "      <td>2</td>\n",
       "      <td>0</td>\n",
       "      <td>0</td>\n",
       "      <td>0</td>\n",
       "      <td>0</td>\n",
       "      <td>0</td>\n",
       "    </tr>\n",
       "    <tr>\n",
       "      <th>9</th>\n",
       "      <td>23684.000000</td>\n",
       "      <td>0.606291</td>\n",
       "      <td>2</td>\n",
       "      <td>0.189169</td>\n",
       "      <td>9</td>\n",
       "      <td>4</td>\n",
       "      <td>0</td>\n",
       "      <td>0</td>\n",
       "      <td>0</td>\n",
       "      <td>0</td>\n",
       "    </tr>\n",
       "  </tbody>\n",
       "</table>\n",
       "</div>"
      ],
      "text/plain": [
       "   monthly_income   debt_ratio  nr_dependents  \\\n",
       "0     9120.000000     0.802982              2   \n",
       "1     2600.000000     0.121876              1   \n",
       "2     3042.000000     0.085113              0   \n",
       "3     3300.000000     0.036050              0   \n",
       "4    63588.000000     0.024926              0   \n",
       "5     3500.000000     0.375607              1   \n",
       "6     6670.221237  5710.000000              0   \n",
       "7     3500.000000     0.209940              0   \n",
       "8     6670.221237    46.000000              0   \n",
       "9    23684.000000     0.606291              2   \n",
       "\n",
       "   credit_balances_dividedby_limits  nr_open_credit_lines_and_loans  \\\n",
       "0                          0.766127                              13   \n",
       "1                          0.957151                               4   \n",
       "2                          0.658180                               2   \n",
       "3                          0.233810                               5   \n",
       "4                          0.907239                               7   \n",
       "5                          0.213179                               3   \n",
       "6                          0.305682                               8   \n",
       "7                          0.754464                               8   \n",
       "8                          0.116951                               2   \n",
       "9                          0.189169                               9   \n",
       "\n",
       "   nr_real_estate_loans  nr_times_30_59_days_past_due  \\\n",
       "0                     6                             2   \n",
       "1                     0                             0   \n",
       "2                     0                             1   \n",
       "3                     0                             0   \n",
       "4                     1                             1   \n",
       "5                     1                             0   \n",
       "6                     3                             0   \n",
       "7                     0                             0   \n",
       "8                     0                             0   \n",
       "9                     4                             0   \n",
       "\n",
       "   nr_times_60_89_days_past_due  nr_times_90plus_days_past_due  \\\n",
       "0                             0                              0   \n",
       "1                             0                              0   \n",
       "2                             0                              1   \n",
       "3                             0                              0   \n",
       "4                             0                              0   \n",
       "5                             0                              0   \n",
       "6                             0                              0   \n",
       "7                             0                              0   \n",
       "8                             0                              0   \n",
       "9                             0                              0   \n",
       "\n",
       "   serious_delinquency  \n",
       "0                    1  \n",
       "1                    0  \n",
       "2                    0  \n",
       "3                    0  \n",
       "4                    0  \n",
       "5                    0  \n",
       "6                    0  \n",
       "7                    0  \n",
       "8                    0  \n",
       "9                    0  "
      ]
     },
     "execution_count": 7,
     "metadata": {},
     "output_type": "execute_result"
    }
   ],
   "source": [
    "df1=df.copy()\n",
    "df1[\"monthly_income\"]=df1[\"monthly_income\"].fillna(value=df[\"monthly_income\"].mean())\n",
    "df1[\"nr_dependents\"]=df1[\"nr_dependents\"].fillna(value=df[\"nr_dependents\"].mean())\n",
    "df1[\"nr_dependents\"]=df1[\"nr_dependents\"].astype(\"int\")\n",
    "df1.head(10)"
   ]
  },
  {
   "cell_type": "code",
   "execution_count": 8,
   "id": "efb5fda4-ae99-4ab5-9cef-c245bd721b7b",
   "metadata": {},
   "outputs": [],
   "source": [
    "df2=df1.copy()"
   ]
  },
  {
   "cell_type": "code",
   "execution_count": 9,
   "id": "06d4eca9-9dc2-44e6-ad08-dc0ab906edda",
   "metadata": {},
   "outputs": [
    {
     "data": {
      "text/plain": [
       "0"
      ]
     },
     "execution_count": 9,
     "metadata": {},
     "output_type": "execute_result"
    }
   ],
   "source": [
    "df2.isnull().sum().sum()"
   ]
  },
  {
   "cell_type": "code",
   "execution_count": 10,
   "id": "1fdbd9a3-4c4a-476c-a055-ae3fb8e085c2",
   "metadata": {},
   "outputs": [
    {
     "data": {
      "text/plain": [
       "serious_delinquency\n",
       "0    139974\n",
       "1     10026\n",
       "Name: count, dtype: int64"
      ]
     },
     "execution_count": 10,
     "metadata": {},
     "output_type": "execute_result"
    }
   ],
   "source": [
    "df2[\"serious_delinquency\"].value_counts()"
   ]
  },
  {
   "cell_type": "markdown",
   "id": "7245a0b9-fcd6-4547-8be2-6d7a42b1d249",
   "metadata": {},
   "source": [
    "univarient analyis"
   ]
  },
  {
   "cell_type": "code",
   "execution_count": 11,
   "id": "b1741a13-115f-4539-8769-1d3ac0324294",
   "metadata": {},
   "outputs": [
    {
     "name": "stderr",
     "output_type": "stream",
     "text": [
      "C:\\Users\\cyamu\\anaconda3\\Lib\\site-packages\\seaborn\\_oldcore.py:1119: FutureWarning: use_inf_as_na option is deprecated and will be removed in a future version. Convert inf values to NaN before operating instead.\n",
      "  with pd.option_context('mode.use_inf_as_na', True):\n"
     ]
    },
    {
     "data": {
      "image/png": "[encoded data removed]",
      "text/plain": [
       "<Figure size 1500x700 with 2 Axes>"
      ]
     },
     "metadata": {},
     "output_type": "display_data"
    }
   ],
   "source": [
    "\n",
    "import seaborn as sns\n",
    "plt.figure(figsize=(15,7))\n",
    "plt.subplot(1,2,1)\n",
    "plt.title(\"Almost Normal Distribution\", fontsize=15)\n",
    "sns.kdeplot(data=df2[\"debt_ratio\"])\n",
    "plt.subplot(1,2,2)\n",
    "plt.title(\"Skewed Distribution\", fontsize=15)\n",
    "sns.boxplot(data = df2[\"debt_ratio\"])\n",
    "plt.show()"
   ]
  },
  {
   "cell_type": "markdown",
   "id": "24e50e18-a5fb-430c-ac68-78fe039e9336",
   "metadata": {},
   "source": [
    "HANDLING OUTLIERS"
   ]
  },
  {
   "cell_type": "code",
   "execution_count": 12,
   "id": "a4aa8f69-8050-49ae-9e21-ae0a5ebb1f0b",
   "metadata": {},
   "outputs": [],
   "source": [
    "#finding the Q1(25 percentile) and Q3(75 percentile)\n",
    "q1 = df2[\"debt_ratio\"].quantile(0.25)\n",
    "q2 = df2[\"debt_ratio\"].quantile(0.75)\n",
    "#finding out the value of Inter Quartile Range\n",
    "IQR = q2 - q1"
   ]
  },
  {
   "cell_type": "code",
   "execution_count": 13,
   "id": "4d26d695-1226-43c3-86e4-7d07486e0a27",
   "metadata": {},
   "outputs": [],
   "source": [
    "#defining max and min limits\n",
    "max_limit = q2 + (1.5 * IQR)\n",
    "min_limit = q1 - (1.5 * IQR) "
   ]
  },
  {
   "cell_type": "code",
   "execution_count": 14,
   "id": "13cf70c0-9985-488d-8c47-cc5649ed3d3b",
   "metadata": {},
   "outputs": [
    {
     "data": {
      "text/html": [
       "<div>\n",
       "<style scoped>\n",
       "    .dataframe tbody tr th:only-of-type {\n",
       "        vertical-align: middle;\n",
       "    }\n",
       "\n",
       "    .dataframe tbody tr th {\n",
       "        vertical-align: top;\n",
       "    }\n",
       "\n",
       "    .dataframe thead th {\n",
       "        text-align: right;\n",
       "    }\n",
       "</style>\n",
       "<table border=\"1\" class=\"dataframe\">\n",
       "  <thead>\n",
       "    <tr style=\"text-align: right;\">\n",
       "      <th></th>\n",
       "      <th>debt_ratio</th>\n",
       "    </tr>\n",
       "  </thead>\n",
       "  <tbody>\n",
       "    <tr>\n",
       "      <th>0</th>\n",
       "      <td>0.802982</td>\n",
       "    </tr>\n",
       "    <tr>\n",
       "      <th>1</th>\n",
       "      <td>0.121876</td>\n",
       "    </tr>\n",
       "    <tr>\n",
       "      <th>2</th>\n",
       "      <td>0.085113</td>\n",
       "    </tr>\n",
       "    <tr>\n",
       "      <th>3</th>\n",
       "      <td>0.036050</td>\n",
       "    </tr>\n",
       "    <tr>\n",
       "      <th>4</th>\n",
       "      <td>0.024926</td>\n",
       "    </tr>\n",
       "    <tr>\n",
       "      <th>5</th>\n",
       "      <td>0.375607</td>\n",
       "    </tr>\n",
       "    <tr>\n",
       "      <th>6</th>\n",
       "      <td>1.908024</td>\n",
       "    </tr>\n",
       "    <tr>\n",
       "      <th>7</th>\n",
       "      <td>0.209940</td>\n",
       "    </tr>\n",
       "    <tr>\n",
       "      <th>8</th>\n",
       "      <td>1.908024</td>\n",
       "    </tr>\n",
       "    <tr>\n",
       "      <th>9</th>\n",
       "      <td>0.606291</td>\n",
       "    </tr>\n",
       "  </tbody>\n",
       "</table>\n",
       "</div>"
      ],
      "text/plain": [
       "   debt_ratio\n",
       "0    0.802982\n",
       "1    0.121876\n",
       "2    0.085113\n",
       "3    0.036050\n",
       "4    0.024926\n",
       "5    0.375607\n",
       "6    1.908024\n",
       "7    0.209940\n",
       "8    1.908024\n",
       "9    0.606291"
      ]
     },
     "execution_count": 14,
     "metadata": {},
     "output_type": "execute_result"
    }
   ],
   "source": [
    "#capping\n",
    "#the outlier values were replaced by the max and min limit\n",
    "df3= pd.DataFrame(np.where(df2[\"debt_ratio\"] > max_limit, max_limit, (np.where(df2[\"debt_ratio\"] < min_limit, min_limit, df2[\"debt_ratio\"]))), columns=[\"debt_ratio\"])\n",
    "df3.head(10)"
   ]
  },
  {
   "cell_type": "code",
   "execution_count": 15,
   "id": "70112c5c-e48c-4978-9684-eaf18bf8fcc8",
   "metadata": {},
   "outputs": [
    {
     "name": "stderr",
     "output_type": "stream",
     "text": [
      "C:\\Users\\cyamu\\anaconda3\\Lib\\site-packages\\seaborn\\_oldcore.py:1119: FutureWarning: use_inf_as_na option is deprecated and will be removed in a future version. Convert inf values to NaN before operating instead.\n",
      "  with pd.option_context('mode.use_inf_as_na', True):\n"
     ]
    },
    {
     "data": {
      "image/png": "[encoded data removed]",
      "text/plain": [
       "<Figure size 800x500 with 2 Axes>"
      ]
     },
     "metadata": {},
     "output_type": "display_data"
    }
   ],
   "source": [
    "#distribution after capping\n",
    "plt.figure(figsize=(8,5))\n",
    "plt.suptitle(\"Distribution after Capping\",fontsize=18)\n",
    "plt.subplot(1,2,1)\n",
    "sns.kdeplot(data = df3)\n",
    "plt.subplot(1,2,2)\n",
    "sns.boxplot(data = df3)\n",
    "plt.tight_layout()\n",
    "plt.show()"
   ]
  },
  {
   "cell_type": "code",
   "execution_count": 16,
   "id": "7263d817-8710-4070-8553-b9eb28f719e4",
   "metadata": {},
   "outputs": [
    {
     "data": {
      "text/html": [
       "<div>\n",
       "<style scoped>\n",
       "    .dataframe tbody tr th:only-of-type {\n",
       "        vertical-align: middle;\n",
       "    }\n",
       "\n",
       "    .dataframe tbody tr th {\n",
       "        vertical-align: top;\n",
       "    }\n",
       "\n",
       "    .dataframe thead th {\n",
       "        text-align: right;\n",
       "    }\n",
       "</style>\n",
       "<table border=\"1\" class=\"dataframe\">\n",
       "  <thead>\n",
       "    <tr style=\"text-align: right;\">\n",
       "      <th></th>\n",
       "      <th>monthly_income</th>\n",
       "      <th>debt_ratio</th>\n",
       "      <th>nr_dependents</th>\n",
       "      <th>credit_balances_dividedby_limits</th>\n",
       "      <th>nr_open_credit_lines_and_loans</th>\n",
       "      <th>nr_real_estate_loans</th>\n",
       "      <th>nr_times_30_59_days_past_due</th>\n",
       "      <th>nr_times_60_89_days_past_due</th>\n",
       "      <th>nr_times_90plus_days_past_due</th>\n",
       "      <th>serious_delinquency</th>\n",
       "    </tr>\n",
       "  </thead>\n",
       "  <tbody>\n",
       "    <tr>\n",
       "      <th>0</th>\n",
       "      <td>9120.000000</td>\n",
       "      <td>0.802982</td>\n",
       "      <td>2</td>\n",
       "      <td>0.766127</td>\n",
       "      <td>13</td>\n",
       "      <td>6</td>\n",
       "      <td>2</td>\n",
       "      <td>0</td>\n",
       "      <td>0</td>\n",
       "      <td>1</td>\n",
       "    </tr>\n",
       "    <tr>\n",
       "      <th>1</th>\n",
       "      <td>2600.000000</td>\n",
       "      <td>0.121876</td>\n",
       "      <td>1</td>\n",
       "      <td>0.957151</td>\n",
       "      <td>4</td>\n",
       "      <td>0</td>\n",
       "      <td>0</td>\n",
       "      <td>0</td>\n",
       "      <td>0</td>\n",
       "      <td>0</td>\n",
       "    </tr>\n",
       "    <tr>\n",
       "      <th>2</th>\n",
       "      <td>3042.000000</td>\n",
       "      <td>0.085113</td>\n",
       "      <td>0</td>\n",
       "      <td>0.658180</td>\n",
       "      <td>2</td>\n",
       "      <td>0</td>\n",
       "      <td>1</td>\n",
       "      <td>0</td>\n",
       "      <td>1</td>\n",
       "      <td>0</td>\n",
       "    </tr>\n",
       "    <tr>\n",
       "      <th>3</th>\n",
       "      <td>3300.000000</td>\n",
       "      <td>0.036050</td>\n",
       "      <td>0</td>\n",
       "      <td>0.233810</td>\n",
       "      <td>5</td>\n",
       "      <td>0</td>\n",
       "      <td>0</td>\n",
       "      <td>0</td>\n",
       "      <td>0</td>\n",
       "      <td>0</td>\n",
       "    </tr>\n",
       "    <tr>\n",
       "      <th>4</th>\n",
       "      <td>63588.000000</td>\n",
       "      <td>0.024926</td>\n",
       "      <td>0</td>\n",
       "      <td>0.907239</td>\n",
       "      <td>7</td>\n",
       "      <td>1</td>\n",
       "      <td>1</td>\n",
       "      <td>0</td>\n",
       "      <td>0</td>\n",
       "      <td>0</td>\n",
       "    </tr>\n",
       "    <tr>\n",
       "      <th>5</th>\n",
       "      <td>3500.000000</td>\n",
       "      <td>0.375607</td>\n",
       "      <td>1</td>\n",
       "      <td>0.213179</td>\n",
       "      <td>3</td>\n",
       "      <td>1</td>\n",
       "      <td>0</td>\n",
       "      <td>0</td>\n",
       "      <td>0</td>\n",
       "      <td>0</td>\n",
       "    </tr>\n",
       "    <tr>\n",
       "      <th>6</th>\n",
       "      <td>6670.221237</td>\n",
       "      <td>1.908024</td>\n",
       "      <td>0</td>\n",
       "      <td>0.305682</td>\n",
       "      <td>8</td>\n",
       "      <td>3</td>\n",
       "      <td>0</td>\n",
       "      <td>0</td>\n",
       "      <td>0</td>\n",
       "      <td>0</td>\n",
       "    </tr>\n",
       "    <tr>\n",
       "      <th>7</th>\n",
       "      <td>3500.000000</td>\n",
       "      <td>0.209940</td>\n",
       "      <td>0</td>\n",
       "      <td>0.754464</td>\n",
       "      <td>8</td>\n",
       "      <td>0</td>\n",
       "      <td>0</td>\n",
       "      <td>0</td>\n",
       "      <td>0</td>\n",
       "      <td>0</td>\n",
       "    </tr>\n",
       "    <tr>\n",
       "      <th>8</th>\n",
       "      <td>6670.221237</td>\n",
       "      <td>1.908024</td>\n",
       "      <td>0</td>\n",
       "      <td>0.116951</td>\n",
       "      <td>2</td>\n",
       "      <td>0</td>\n",
       "      <td>0</td>\n",
       "      <td>0</td>\n",
       "      <td>0</td>\n",
       "      <td>0</td>\n",
       "    </tr>\n",
       "    <tr>\n",
       "      <th>9</th>\n",
       "      <td>23684.000000</td>\n",
       "      <td>0.606291</td>\n",
       "      <td>2</td>\n",
       "      <td>0.189169</td>\n",
       "      <td>9</td>\n",
       "      <td>4</td>\n",
       "      <td>0</td>\n",
       "      <td>0</td>\n",
       "      <td>0</td>\n",
       "      <td>0</td>\n",
       "    </tr>\n",
       "  </tbody>\n",
       "</table>\n",
       "</div>"
      ],
      "text/plain": [
       "   monthly_income  debt_ratio  nr_dependents  \\\n",
       "0     9120.000000    0.802982              2   \n",
       "1     2600.000000    0.121876              1   \n",
       "2     3042.000000    0.085113              0   \n",
       "3     3300.000000    0.036050              0   \n",
       "4    63588.000000    0.024926              0   \n",
       "5     3500.000000    0.375607              1   \n",
       "6     6670.221237    1.908024              0   \n",
       "7     3500.000000    0.209940              0   \n",
       "8     6670.221237    1.908024              0   \n",
       "9    23684.000000    0.606291              2   \n",
       "\n",
       "   credit_balances_dividedby_limits  nr_open_credit_lines_and_loans  \\\n",
       "0                          0.766127                              13   \n",
       "1                          0.957151                               4   \n",
       "2                          0.658180                               2   \n",
       "3                          0.233810                               5   \n",
       "4                          0.907239                               7   \n",
       "5                          0.213179                               3   \n",
       "6                          0.305682                               8   \n",
       "7                          0.754464                               8   \n",
       "8                          0.116951                               2   \n",
       "9                          0.189169                               9   \n",
       "\n",
       "   nr_real_estate_loans  nr_times_30_59_days_past_due  \\\n",
       "0                     6                             2   \n",
       "1                     0                             0   \n",
       "2                     0                             1   \n",
       "3                     0                             0   \n",
       "4                     1                             1   \n",
       "5                     1                             0   \n",
       "6                     3                             0   \n",
       "7                     0                             0   \n",
       "8                     0                             0   \n",
       "9                     4                             0   \n",
       "\n",
       "   nr_times_60_89_days_past_due  nr_times_90plus_days_past_due  \\\n",
       "0                             0                              0   \n",
       "1                             0                              0   \n",
       "2                             0                              1   \n",
       "3                             0                              0   \n",
       "4                             0                              0   \n",
       "5                             0                              0   \n",
       "6                             0                              0   \n",
       "7                             0                              0   \n",
       "8                             0                              0   \n",
       "9                             0                              0   \n",
       "\n",
       "   serious_delinquency  \n",
       "0                    1  \n",
       "1                    0  \n",
       "2                    0  \n",
       "3                    0  \n",
       "4                    0  \n",
       "5                    0  \n",
       "6                    0  \n",
       "7                    0  \n",
       "8                    0  \n",
       "9                    0  "
      ]
     },
     "execution_count": 16,
     "metadata": {},
     "output_type": "execute_result"
    }
   ],
   "source": [
    "#replace the column.\n",
    "df4=df2.copy()\n",
    "df4[\"debt_ratio\"]=df3[\"debt_ratio\"]\n",
    "df4.head(10)\n"
   ]
  },
  {
   "cell_type": "markdown",
   "id": "90c155ef-504c-4549-97cc-79cd669355eb",
   "metadata": {},
   "source": [
    "SPLITTING THE INPUT AND TARGET VARIABLE"
   ]
  },
  {
   "cell_type": "code",
   "execution_count": 17,
   "id": "bfa370df-98cc-4821-aff2-9ee9d84cb8e6",
   "metadata": {},
   "outputs": [
    {
     "data": {
      "text/html": [
       "<div>\n",
       "<style scoped>\n",
       "    .dataframe tbody tr th:only-of-type {\n",
       "        vertical-align: middle;\n",
       "    }\n",
       "\n",
       "    .dataframe tbody tr th {\n",
       "        vertical-align: top;\n",
       "    }\n",
       "\n",
       "    .dataframe thead th {\n",
       "        text-align: right;\n",
       "    }\n",
       "</style>\n",
       "<table border=\"1\" class=\"dataframe\">\n",
       "  <thead>\n",
       "    <tr style=\"text-align: right;\">\n",
       "      <th></th>\n",
       "      <th>monthly_income</th>\n",
       "      <th>debt_ratio</th>\n",
       "      <th>nr_dependents</th>\n",
       "      <th>credit_balances_dividedby_limits</th>\n",
       "      <th>nr_open_credit_lines_and_loans</th>\n",
       "      <th>nr_real_estate_loans</th>\n",
       "      <th>nr_times_30_59_days_past_due</th>\n",
       "      <th>nr_times_60_89_days_past_due</th>\n",
       "      <th>nr_times_90plus_days_past_due</th>\n",
       "    </tr>\n",
       "  </thead>\n",
       "  <tbody>\n",
       "    <tr>\n",
       "      <th>0</th>\n",
       "      <td>9120.0</td>\n",
       "      <td>0.802982</td>\n",
       "      <td>2</td>\n",
       "      <td>0.766127</td>\n",
       "      <td>13</td>\n",
       "      <td>6</td>\n",
       "      <td>2</td>\n",
       "      <td>0</td>\n",
       "      <td>0</td>\n",
       "    </tr>\n",
       "    <tr>\n",
       "      <th>1</th>\n",
       "      <td>2600.0</td>\n",
       "      <td>0.121876</td>\n",
       "      <td>1</td>\n",
       "      <td>0.957151</td>\n",
       "      <td>4</td>\n",
       "      <td>0</td>\n",
       "      <td>0</td>\n",
       "      <td>0</td>\n",
       "      <td>0</td>\n",
       "    </tr>\n",
       "    <tr>\n",
       "      <th>2</th>\n",
       "      <td>3042.0</td>\n",
       "      <td>0.085113</td>\n",
       "      <td>0</td>\n",
       "      <td>0.658180</td>\n",
       "      <td>2</td>\n",
       "      <td>0</td>\n",
       "      <td>1</td>\n",
       "      <td>0</td>\n",
       "      <td>1</td>\n",
       "    </tr>\n",
       "    <tr>\n",
       "      <th>3</th>\n",
       "      <td>3300.0</td>\n",
       "      <td>0.036050</td>\n",
       "      <td>0</td>\n",
       "      <td>0.233810</td>\n",
       "      <td>5</td>\n",
       "      <td>0</td>\n",
       "      <td>0</td>\n",
       "      <td>0</td>\n",
       "      <td>0</td>\n",
       "    </tr>\n",
       "    <tr>\n",
       "      <th>4</th>\n",
       "      <td>63588.0</td>\n",
       "      <td>0.024926</td>\n",
       "      <td>0</td>\n",
       "      <td>0.907239</td>\n",
       "      <td>7</td>\n",
       "      <td>1</td>\n",
       "      <td>1</td>\n",
       "      <td>0</td>\n",
       "      <td>0</td>\n",
       "    </tr>\n",
       "  </tbody>\n",
       "</table>\n",
       "</div>"
      ],
      "text/plain": [
       "   monthly_income  debt_ratio  nr_dependents  \\\n",
       "0          9120.0    0.802982              2   \n",
       "1          2600.0    0.121876              1   \n",
       "2          3042.0    0.085113              0   \n",
       "3          3300.0    0.036050              0   \n",
       "4         63588.0    0.024926              0   \n",
       "\n",
       "   credit_balances_dividedby_limits  nr_open_credit_lines_and_loans  \\\n",
       "0                          0.766127                              13   \n",
       "1                          0.957151                               4   \n",
       "2                          0.658180                               2   \n",
       "3                          0.233810                               5   \n",
       "4                          0.907239                               7   \n",
       "\n",
       "   nr_real_estate_loans  nr_times_30_59_days_past_due  \\\n",
       "0                     6                             2   \n",
       "1                     0                             0   \n",
       "2                     0                             1   \n",
       "3                     0                             0   \n",
       "4                     1                             1   \n",
       "\n",
       "   nr_times_60_89_days_past_due  nr_times_90plus_days_past_due  \n",
       "0                             0                              0  \n",
       "1                             0                              0  \n",
       "2                             0                              1  \n",
       "3                             0                              0  \n",
       "4                             0                              0  "
      ]
     },
     "execution_count": 17,
     "metadata": {},
     "output_type": "execute_result"
    }
   ],
   "source": [
    "x=df4[[\"monthly_income\",\"debt_ratio\",\"nr_dependents\",\"credit_balances_dividedby_limits\",\"nr_open_credit_lines_and_loans\",\"nr_real_estate_loans\",\"nr_times_30_59_days_past_due\",\"nr_times_60_89_days_past_due\",\"nr_times_90plus_days_past_due\"]]\n",
    "x.head()"
   ]
  },
  {
   "cell_type": "code",
   "execution_count": 18,
   "id": "dc0a7ee7-8284-4c6a-89e0-5d261c6a0a41",
   "metadata": {},
   "outputs": [
    {
     "data": {
      "text/html": [
       "<div>\n",
       "<style scoped>\n",
       "    .dataframe tbody tr th:only-of-type {\n",
       "        vertical-align: middle;\n",
       "    }\n",
       "\n",
       "    .dataframe tbody tr th {\n",
       "        vertical-align: top;\n",
       "    }\n",
       "\n",
       "    .dataframe thead th {\n",
       "        text-align: right;\n",
       "    }\n",
       "</style>\n",
       "<table border=\"1\" class=\"dataframe\">\n",
       "  <thead>\n",
       "    <tr style=\"text-align: right;\">\n",
       "      <th></th>\n",
       "      <th>serious_delinquency</th>\n",
       "    </tr>\n",
       "  </thead>\n",
       "  <tbody>\n",
       "    <tr>\n",
       "      <th>0</th>\n",
       "      <td>1</td>\n",
       "    </tr>\n",
       "    <tr>\n",
       "      <th>1</th>\n",
       "      <td>0</td>\n",
       "    </tr>\n",
       "    <tr>\n",
       "      <th>2</th>\n",
       "      <td>0</td>\n",
       "    </tr>\n",
       "    <tr>\n",
       "      <th>3</th>\n",
       "      <td>0</td>\n",
       "    </tr>\n",
       "    <tr>\n",
       "      <th>4</th>\n",
       "      <td>0</td>\n",
       "    </tr>\n",
       "  </tbody>\n",
       "</table>\n",
       "</div>"
      ],
      "text/plain": [
       "   serious_delinquency\n",
       "0                    1\n",
       "1                    0\n",
       "2                    0\n",
       "3                    0\n",
       "4                    0"
      ]
     },
     "execution_count": 18,
     "metadata": {},
     "output_type": "execute_result"
    }
   ],
   "source": [
    "y=df4[[\"serious_delinquency\"]]\n",
    "y.head()"
   ]
  },
  {
   "cell_type": "markdown",
   "id": "91c2ffbb-3be3-47fb-a159-9d6ff5cfa213",
   "metadata": {},
   "source": [
    "HANDLING IMBALANCE DATA"
   ]
  },
  {
   "cell_type": "code",
   "execution_count": 19,
   "id": "1cd1180f-f55c-4a3a-9379-163ca42db4d9",
   "metadata": {},
   "outputs": [
    {
     "data": {
      "text/plain": [
       "serious_delinquency\n",
       "0                      139974\n",
       "1                       10026\n",
       "Name: count, dtype: int64"
      ]
     },
     "execution_count": 19,
     "metadata": {},
     "output_type": "execute_result"
    },
    {
     "data": {
      "image/png": "[encoded data removed]",
      "text/plain": [
       "<Figure size 640x480 with 1 Axes>"
      ]
     },
     "metadata": {},
     "output_type": "display_data"
    }
   ],
   "source": [
    "y.plot(kind='hist', title= 'serious_delinquency before sampling')\n",
    "y.value_counts()"
   ]
  },
  {
   "cell_type": "code",
   "execution_count": 20,
   "id": "bc23cef7-d104-40bd-90cd-6fda54c3ac39",
   "metadata": {},
   "outputs": [
    {
     "name": "stdout",
     "output_type": "stream",
     "text": [
      "  serious_delinquency percentage\n",
      "0               0.00%     93.32%\n",
      "1             100.00%      6.68%\n"
     ]
    }
   ],
   "source": [
    "percentage = (df2[\"serious_delinquency\"].value_counts(normalize=True).reset_index(name='percentage') )\n",
    "print (percentage.map(\"{:.2%}\".format))"
   ]
  },
  {
   "cell_type": "code",
   "execution_count": 21,
   "id": "43d34cde-7506-4dff-b937-be3e26aaeae9",
   "metadata": {},
   "outputs": [
    {
     "data": {
      "text/plain": [
       "serious_delinquency\n",
       "0                      139974\n",
       "1                      139974\n",
       "Name: count, dtype: int64"
      ]
     },
     "execution_count": 21,
     "metadata": {},
     "output_type": "execute_result"
    }
   ],
   "source": [
    "#smote to balance the classes\n",
    "from imblearn.over_sampling import SMOTE\n",
    "smote = SMOTE(random_state=42, k_neighbors=5)\n",
    "# fit predictor and target variable\n",
    "x_smote, y_smote = smote.fit_resample(x, y)\n",
    "x_smote.value_counts()\n",
    "y_smote.value_counts()"
   ]
  },
  {
   "cell_type": "markdown",
   "id": "6aafcff4-c3bf-47ee-8651-d81244869081",
   "metadata": {},
   "source": [
    "TRAINING AND TESTING"
   ]
  },
  {
   "cell_type": "code",
   "execution_count": 22,
   "id": "230df1ac-a9b7-4fef-b0fb-eb0ce6f8a40f",
   "metadata": {},
   "outputs": [
    {
     "name": "stdout",
     "output_type": "stream",
     "text": [
      "Train set (223958, 9) (223958, 1)\n",
      "Test set (55990, 9) (55990, 1)\n"
     ]
    }
   ],
   "source": [
    "x_train,x_test,y_train,y_test=train_test_split(x_smote,y_smote,test_size=0.2,random_state=4)\n",
    "print(\"Train set\",x_train.shape,y_train.shape)\n",
    "print(\"Test set\",x_test.shape,y_test.shape)"
   ]
  },
  {
   "cell_type": "code",
   "execution_count": 23,
   "id": "8f20e0b2-a72d-4d88-bddc-c4746adfe4ab",
   "metadata": {},
   "outputs": [
    {
     "data": {
      "text/plain": [
       "serious_delinquency\n",
       "1                      112082\n",
       "0                      111876\n",
       "Name: count, dtype: int64"
      ]
     },
     "execution_count": 23,
     "metadata": {},
     "output_type": "execute_result"
    }
   ],
   "source": [
    "# Check class distribution\n",
    "y_train.value_counts()"
   ]
  },
  {
   "cell_type": "markdown",
   "id": "b92b1355-8215-4c45-96b2-1e6c6c8c9020",
   "metadata": {},
   "source": [
    "MODELING"
   ]
  },
  {
   "cell_type": "code",
   "execution_count": 24,
   "id": "55016d64-a2ba-4ff4-bd41-6ca19b967e40",
   "metadata": {},
   "outputs": [
    {
     "data": {
      "text/plain": [
       "0.9981620599204154"
      ]
     },
     "execution_count": 24,
     "metadata": {},
     "output_type": "execute_result"
    }
   ],
   "source": [
    "# Calculate the ratio of negative class to positive class\n",
    "ratio = float(y_train.value_counts()[0]) / y_train.value_counts()[1]\n",
    "ratio"
   ]
  },
  {
   "cell_type": "code",
   "execution_count": 25,
   "id": "2008e1fa-2156-4b5a-9485-1f184928232c",
   "metadata": {},
   "outputs": [
    {
     "data": {
      "text/html": [
       "<style>#sk-container-id-1 {color: black;background-color: white;}#sk-container-id-1 pre{padding: 0;}#sk-container-id-1 div.sk-toggleable {background-color: white;}#sk-container-id-1 label.sk-toggleable__label {cursor: pointer;display: block;width: 100%;margin-bottom: 0;padding: 0.3em;box-sizing: border-box;text-align: center;}#sk-container-id-1 label.sk-toggleable__label-arrow:before {content: \"▸\";float: left;margin-right: 0.25em;color: #696969;}#sk-container-id-1 label.sk-toggleable__label-arrow:hover:before {color: black;}#sk-container-id-1 div.sk-estimator:hover label.sk-toggleable__label-arrow:before {color: black;}#sk-container-id-1 div.sk-toggleable__content {max-height: 0;max-width: 0;overflow: hidden;text-align: left;background-color: #f0f8ff;}#sk-container-id-1 div.sk-toggleable__content pre {margin: 0.2em;color: black;border-radius: 0.25em;background-color: #f0f8ff;}#sk-container-id-1 input.sk-toggleable__control:checked~div.sk-toggleable__content {max-height: 200px;max-width: 100%;overflow: auto;}#sk-container-id-1 input.sk-toggleable__control:checked~label.sk-toggleable__label-arrow:before {content: \"▾\";}#sk-container-id-1 div.sk-estimator input.sk-toggleable__control:checked~label.sk-toggleable__label {background-color: #d4ebff;}#sk-container-id-1 div.sk-label input.sk-toggleable__control:checked~label.sk-toggleable__label {background-color: #d4ebff;}#sk-container-id-1 input.sk-hidden--visually {border: 0;clip: rect(1px 1px 1px 1px);clip: rect(1px, 1px, 1px, 1px);height: 1px;margin: -1px;overflow: hidden;padding: 0;position: absolute;width: 1px;}#sk-container-id-1 div.sk-estimator {font-family: monospace;background-color: #f0f8ff;border: 1px dotted black;border-radius: 0.25em;box-sizing: border-box;margin-bottom: 0.5em;}#sk-container-id-1 div.sk-estimator:hover {background-color: #d4ebff;}#sk-container-id-1 div.sk-parallel-item::after {content: \"\";width: 100%;border-bottom: 1px solid gray;flex-grow: 1;}#sk-container-id-1 div.sk-label:hover label.sk-toggleable__label {background-color: #d4ebff;}#sk-container-id-1 div.sk-serial::before {content: \"\";position: absolute;border-left: 1px solid gray;box-sizing: border-box;top: 0;bottom: 0;left: 50%;z-index: 0;}#sk-container-id-1 div.sk-serial {display: flex;flex-direction: column;align-items: center;background-color: white;padding-right: 0.2em;padding-left: 0.2em;position: relative;}#sk-container-id-1 div.sk-item {position: relative;z-index: 1;}#sk-container-id-1 div.sk-parallel {display: flex;align-items: stretch;justify-content: center;background-color: white;position: relative;}#sk-container-id-1 div.sk-item::before, #sk-container-id-1 div.sk-parallel-item::before {content: \"\";position: absolute;border-left: 1px solid gray;box-sizing: border-box;top: 0;bottom: 0;left: 50%;z-index: -1;}#sk-container-id-1 div.sk-parallel-item {display: flex;flex-direction: column;z-index: 1;position: relative;background-color: white;}#sk-container-id-1 div.sk-parallel-item:first-child::after {align-self: flex-end;width: 50%;}#sk-container-id-1 div.sk-parallel-item:last-child::after {align-self: flex-start;width: 50%;}#sk-container-id-1 div.sk-parallel-item:only-child::after {width: 0;}#sk-container-id-1 div.sk-dashed-wrapped {border: 1px dashed gray;margin: 0 0.4em 0.5em 0.4em;box-sizing: border-box;padding-bottom: 0.4em;background-color: white;}#sk-container-id-1 div.sk-label label {font-family: monospace;font-weight: bold;display: inline-block;line-height: 1.2em;}#sk-container-id-1 div.sk-label-container {text-align: center;}#sk-container-id-1 div.sk-container {/* jupyter's `normalize.less` sets `[hidden] { display: none; }` but bootstrap.min.css set `[hidden] { display: none !important; }` so we also need the `!important` here to be able to override the default hidden behavior on the sphinx rendered scikit-learn.org. See: https://github.com/scikit-learn/scikit-learn/issues/21755 */display: inline-block !important;position: relative;}#sk-container-id-1 div.sk-text-repr-fallback {display: none;}</style><div id=\"sk-container-id-1\" class=\"sk-top-container\"><div class=\"sk-text-repr-fallback\"><pre>XGBClassifier(base_score=None, booster=None, callbacks=None,\n",
       "              colsample_bylevel=None, colsample_bynode=None,\n",
       "              colsample_bytree=None, device=None, early_stopping_rounds=None,\n",
       "              enable_categorical=False, eval_metric=None, feature_types=None,\n",
       "              gamma=None, grow_policy=None, importance_type=None,\n",
       "              interaction_constraints=None, learning_rate=None, max_bin=None,\n",
       "              max_cat_threshold=None, max_cat_to_onehot=None,\n",
       "              max_delta_step=None, max_depth=None, max_leaves=None,\n",
       "              min_child_weight=None, missing=nan, monotone_constraints=None,\n",
       "              multi_strategy=None, n_estimators=250, n_jobs=None,\n",
       "              num_parallel_tree=None, random_state=None, ...)</pre><b>In a Jupyter environment, please rerun this cell to show the HTML representation or trust the notebook. <br />On GitHub, the HTML representation is unable to render, please try loading this page with nbviewer.org.</b></div><div class=\"sk-container\" hidden><div class=\"sk-item\"><div class=\"sk-estimator sk-toggleable\"><input class=\"sk-toggleable__control sk-hidden--visually\" id=\"sk-estimator-id-1\" type=\"checkbox\" checked><label for=\"sk-estimator-id-1\" class=\"sk-toggleable__label sk-toggleable__label-arrow\">XGBClassifier</label><div class=\"sk-toggleable__content\"><pre>XGBClassifier(base_score=None, booster=None, callbacks=None,\n",
       "              colsample_bylevel=None, colsample_bynode=None,\n",
       "              colsample_bytree=None, device=None, early_stopping_rounds=None,\n",
       "              enable_categorical=False, eval_metric=None, feature_types=None,\n",
       "              gamma=None, grow_policy=None, importance_type=None,\n",
       "              interaction_constraints=None, learning_rate=None, max_bin=None,\n",
       "              max_cat_threshold=None, max_cat_to_onehot=None,\n",
       "              max_delta_step=None, max_depth=None, max_leaves=None,\n",
       "              min_child_weight=None, missing=nan, monotone_constraints=None,\n",
       "              multi_strategy=None, n_estimators=250, n_jobs=None,\n",
       "              num_parallel_tree=None, random_state=None, ...)</pre></div></div></div></div></div>"
      ],
      "text/plain": [
       "XGBClassifier(base_score=None, booster=None, callbacks=None,\n",
       "              colsample_bylevel=None, colsample_bynode=None,\n",
       "              colsample_bytree=None, device=None, early_stopping_rounds=None,\n",
       "              enable_categorical=False, eval_metric=None, feature_types=None,\n",
       "              gamma=None, grow_policy=None, importance_type=None,\n",
       "              interaction_constraints=None, learning_rate=None, max_bin=None,\n",
       "              max_cat_threshold=None, max_cat_to_onehot=None,\n",
       "              max_delta_step=None, max_depth=None, max_leaves=None,\n",
       "              min_child_weight=None, missing=nan, monotone_constraints=None,\n",
       "              multi_strategy=None, n_estimators=250, n_jobs=None,\n",
       "              num_parallel_tree=None, random_state=None, ...)"
      ]
     },
     "execution_count": 25,
     "metadata": {},
     "output_type": "execute_result"
    }
   ],
   "source": [
    "import xgboost as xgb\n",
    "# Create an XGBoost classifier with the scale_pos_weight and value\n",
    "model = xgb.XGBClassifier(n_estimators=250,scale_pos_weight=ratio)\n",
    "# Fit the model to the training data\n",
    "model.fit(x_train, y_train)"
   ]
  },
  {
   "cell_type": "markdown",
   "id": "20b307dc-9d62-46ab-90d2-f857a6b02c8e",
   "metadata": {},
   "source": [
    "EVALUATION"
   ]
  },
  {
   "cell_type": "code",
   "execution_count": 26,
   "id": "23751382-b0db-4599-b841-8a177b208517",
   "metadata": {},
   "outputs": [],
   "source": [
    "# Make predictions on the test set\n",
    "y_pred = model.predict(x_test)\n",
    "y_pred_proba = model.predict_proba(x_test)[:, 1]"
   ]
  },
  {
   "cell_type": "code",
   "execution_count": 27,
   "id": "3a566d6d-0f7b-48f4-b177-7169ea9280f2",
   "metadata": {},
   "outputs": [],
   "source": [
    "# Make predictions on the train set\n",
    "y_pred_train = model.predict(x_train)\n",
    "y_pred_proba_train = model.predict_proba(x_train)[:, 1]"
   ]
  },
  {
   "cell_type": "code",
   "execution_count": 28,
   "id": "907d752f-ef2b-4219-97b7-1123ac92b0f8",
   "metadata": {},
   "outputs": [],
   "source": [
    "from sklearn.metrics import roc_auc_score, f1_score"
   ]
  },
  {
   "cell_type": "code",
   "execution_count": 29,
   "id": "7c2b1b4a-771d-4a23-a29b-9b8285cb0e2d",
   "metadata": {},
   "outputs": [
    {
     "name": "stdout",
     "output_type": "stream",
     "text": [
      "AUC: 0.8967220262414202\n"
     ]
    }
   ],
   "source": [
    "# Calculate AUC\n",
    "auc = roc_auc_score(y_test, y_pred_proba)\n",
    "print(f\"AUC: {auc}\")"
   ]
  },
  {
   "cell_type": "code",
   "execution_count": 30,
   "id": "e8dbd3ef-5a28-4520-a3f9-56b7314a1c0b",
   "metadata": {},
   "outputs": [
    {
     "name": "stdout",
     "output_type": "stream",
     "text": [
      "              precision    recall  f1-score   support\n",
      "\n",
      "           0       0.84      0.79      0.81     28098\n",
      "           1       0.80      0.85      0.82     27892\n",
      "\n",
      "    accuracy                           0.82     55990\n",
      "   macro avg       0.82      0.82      0.82     55990\n",
      "weighted avg       0.82      0.82      0.82     55990\n",
      "\n"
     ]
    }
   ],
   "source": [
    "#classification report for test set\n",
    "from sklearn.metrics import classification_report\n",
    "print(classification_report(y_test, y_pred))"
   ]
  },
  {
   "cell_type": "code",
   "execution_count": 31,
   "id": "a50538bc-2095-49c6-ab13-3ce43b1d90de",
   "metadata": {},
   "outputs": [
    {
     "name": "stdout",
     "output_type": "stream",
     "text": [
      "              precision    recall  f1-score   support\n",
      "\n",
      "           0       0.86      0.81      0.83    111876\n",
      "           1       0.82      0.87      0.84    112082\n",
      "\n",
      "    accuracy                           0.84    223958\n",
      "   macro avg       0.84      0.84      0.84    223958\n",
      "weighted avg       0.84      0.84      0.84    223958\n",
      "\n"
     ]
    }
   ],
   "source": [
    "#classification report for train set\n",
    "from sklearn.metrics import classification_report\n",
    "print(classification_report(y_train, y_pred_train))"
   ]
  },
  {
   "cell_type": "markdown",
   "id": "8d0be68f-cafc-4f92-8b2c-b054499d9c50",
   "metadata": {},
   "source": [
    "CONFUSION MATRIX"
   ]
  },
  {
   "cell_type": "code",
   "execution_count": 32,
   "id": "3da544bf-6bb2-4261-8ed7-312e239c9a4d",
   "metadata": {},
   "outputs": [
    {
     "data": {
      "image/png": "[encoded data removed]",
      "text/plain": [
       "<Figure size 640x480 with 2 Axes>"
      ]
     },
     "metadata": {},
     "output_type": "display_data"
    }
   ],
   "source": [
    "from sklearn import metrics\n",
    "confusion_matrix = metrics.confusion_matrix(y_test,y_pred)\n",
    "cm_display = metrics.ConfusionMatrixDisplay(confusion_matrix = confusion_matrix, display_labels = [\"No\",\"Yes\"])\n",
    "cm_display.plot()\n",
    "plt.title(\"Confusion Matrix of XGBClassifier with SMOTE\")\n",
    "plt.show()"
   ]
  }
 ],
 "metadata": {
  "kernelspec": {
   "display_name": "Python 3 (ipykernel)",
   "language": "python",
   "name": "python3"
  },
  "language_info": {
   "codemirror_mode": {
    "name": "ipython",
    "version": 3
   },
   "file_extension": ".py",
   "mimetype": "text/x-python",
   "name": "python",
   "nbconvert_exporter": "python",
   "pygments_lexer": "ipython3",
   "version": "3.11.7"
  }
 },
 "nbformat": 4,
 "nbformat_minor": 5
}
